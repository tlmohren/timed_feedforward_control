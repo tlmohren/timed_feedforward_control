{
 "cells": [
  {
   "cell_type": "markdown",
   "metadata": {},
   "source": [
    "# figure 5, continuous "
   ]
  },
  {
   "cell_type": "code",
   "execution_count": 1,
   "metadata": {},
   "outputs": [],
   "source": [
    "import numpy as np  \n",
    "import pickle \n",
    "import matplotlib.pyplot as plt   \n",
    "import sys \n",
    "import  os \n",
    "\n",
    "# append function path to system\n",
    "base_path = os.path.dirname( os.getcwd()  )  \n",
    "function_path = os.path.join(  base_path, 'functions') \n",
    "sys.path.append(function_path ) \n",
    " \n",
    "figs_path = os.path.join(  base_path, 'figs') \n",
    "data_path = os.path.join(  base_path, 'data')\n",
    "    \n",
    "# import custom functions \n",
    "from figure_settings import *    \n",
    "import figure_functions as ff\n",
    "import phasediagram as phd\n",
    "import singlependulum as sp  "
   ]
  },
  {
   "cell_type": "markdown",
   "metadata": {},
   "source": [
    "# Set plotting parameter"
   ]
  },
  {
   "cell_type": "code",
   "execution_count": 2,
   "metadata": {},
   "outputs": [],
   "source": [
    "# General Plotting Parameters  \n",
    "fig_dim = (3.2,3)  \n",
    "fig_name = 'fig5_continuous'\n",
    "boost_col = 'c'\n",
    "LQR_limit = 0.3"
   ]
  },
  {
   "cell_type": "markdown",
   "metadata": {},
   "source": [
    "# Define on-off plotting function"
   ]
  },
  {
   "cell_type": "code",
   "execution_count": null,
   "metadata": {},
   "outputs": [],
   "source": [
    "fig, ax  = plt.subplots(1,1,figsize= (3.4,3) ,dpi=100)  \n",
    "\n",
    "def plot_line_npy( ax_p ): \n",
    "    filename_learned = os.path.join( data_path,  'feedforward_grouping_learned.npy' )\n",
    "    U_mat = np.load(filename_learned  )  \n",
    "\n",
    "    for j in range( U_mat.shape[0] ): \n",
    "        y0 = U_mat[j,0]\n",
    "        t1 = U_mat[j,1] \n",
    "        tau = U_mat[j,2]   \n",
    "        dt = 0.01; \n",
    "        t_end = 1.\n",
    "        tInt = np.arange(0,t_end,dt) \n",
    "        u = np.zeros( (len(tInt) ))\n",
    "        bool_on = (tInt>t1) & (tInt < (t1+tau) )\n",
    "        u[bool_on]= -3\n",
    "\n",
    "        ax_p.plot( tInt, u*0 + y0,'k',linewidth=0.5)\n",
    "        ax_p.plot( tInt[bool_on], u[bool_on]*0+ y0, color=ff_col ,linewidth=3 ) \n",
    "\n",
    "        ax_p.set_ylim([-0.5, U_mat[-1,0]+0.5]) \n",
    "        ax_p.set_xlim([-0.05, 1.05]) \n",
    "        ax_p.set_xlabel('time (s) ') \n",
    "#         ax_p.yaxis.set_ticks([]) \n",
    "        \n",
    "    \n",
    "#     ax_p.yaxis.set_major_locator( plt.MultipleLocator(4) ) \n",
    "        \n",
    "    ax_p.plot([-5,-5,],[-5,-4],color=ff_col,label='Control on',linewidth=3)\n",
    "    ax_p.plot([-5,-5,],[-5,-4],'k',label='Control off',linewidth=0.5,)\n",
    "    ax_p.legend( fontsize = 8,loc='lower center')\n",
    "    \n",
    "plot_line_npy( ax) "
   ]
  },
  {
   "cell_type": "markdown",
   "metadata": {},
   "source": [
    "# Load data"
   ]
  },
  {
   "cell_type": "code",
   "execution_count": null,
   "metadata": {},
   "outputs": [],
   "source": [
    "filename_continuous = os.path.join( data_path,  'continuouslearning_data.pkl' )\n",
    "with open( filename_continuous, 'rb') as handle:\n",
    "    b = pickle.load(handle)\n",
    "    \n",
    "y_data = b[0]\n",
    "u_data = b[1] "
   ]
  },
  {
   "cell_type": "markdown",
   "metadata": {},
   "source": [
    "# Define function for plotting continuous learning"
   ]
  },
  {
   "cell_type": "code",
   "execution_count": null,
   "metadata": {},
   "outputs": [],
   "source": [
    "def plot_line( ax_p, y_temp, u_temp, alpha = 0.05, line_col = line_col,linewidth=1):\n",
    "    y0_i= np.where( y_temp[:,0] > -np.pi+0.3  )[0][0] + 1\n",
    "    y1_i= np.where( y_temp[:,0] >  np.pi-0.3  )[0][0]\n",
    "    y0 = y_temp[y0_i,:]\n",
    "    \n",
    "    x_u =  y_temp[y0_i:y1_i,0]\n",
    "    y_u =   u_temp[y0_i:y1_i]*0.1 +  y0[1]\n",
    "    \n",
    "    bool_LQR1 = (np.abs(u_temp)>0.1) & (  np.arange( len(u_temp) )< (y0_i-1) )\n",
    "    bool_LQR2 = (np.abs(u_temp)>0.1) & (  np.arange( len(u_temp) ) > (y1_i-1) )\n",
    "    bool_ff = (np.abs(u_temp)>0.1) & (  np.arange( len(u_temp) )> (y0_i-1) ) & (  np.arange( len(u_temp) )< (y1_i-1) )\n",
    "    \n",
    "    ax_p.plot( y_temp[:,0], y_temp[:,1],\n",
    "               linewidth = linewidth, color=line_col,zorder = -1 , alpha = alpha ) \n",
    "    ax_p.plot( y_temp[bool_LQR1,0], y_temp[bool_LQR1,1] ,\n",
    "               linewidth = linewidth,  color=boost_col , alpha = alpha )\n",
    "    ax_p.plot( y_temp[bool_LQR2,0], y_temp[bool_LQR2,1] ,\n",
    "               linewidth = linewidth,   color= boost_col , alpha = alpha ) \n",
    "    ax_p.plot( y_temp[bool_ff,0], y_temp[bool_ff,1] ,\n",
    "               linewidth = linewidth,     color=u_col , alpha = alpha )\n",
    "    return( ax_p ) \n",
    "\n",
    "def plot_many_lines( ax_p):  \n",
    "    n_lines = 265\n",
    "    line_col = np.ones((3,))*0.8\n",
    "    thin_line = np.ones((3))*0.8\n",
    "\n",
    "    y_p = y_data \n",
    "    u_p = u_data \n",
    "    plot_array = []\n",
    "    u_array = []\n",
    "    split_locs = np.where( np.abs(np.diff( y_p[:,0]) ) > 6 )[0]\n",
    "    split_locs = np.insert(split_locs,0,0)\n",
    "    split_locs = np.insert(split_locs,len(split_locs),len(y_p) )  + 1\n",
    "    for j in range(len(split_locs)-1 ): \n",
    "        plot_array.append( y_p[split_locs[j]:split_locs[j+1]  ,:] )  \n",
    "        u_array.append( u_p[split_locs[j]:split_locs[j+1]   ] )  \n",
    "\n",
    "    # AX  ---------------------------------------------\n",
    "    for j in range( n_lines):\n",
    "        y_temp = plot_array[j]\n",
    "        u_temp = u_array[j ]\n",
    "        plot_line(ax_p,y_temp, u_temp , line_col=thin_line ) \n",
    "\n",
    "    # do one highlight  ---------------------------------------------     \n",
    "    j = n_lines + 61\n",
    "    y_temp = plot_array[j]\n",
    "    u_temp = u_array[j ] \n",
    "    plot_line(ax_p,y_temp, u_temp , alpha = 0.9, line_col='k',linewidth =2)\n",
    "\n",
    "    phd.homoclinic_plot(ax_p,col=homoclinic_col) \n",
    "    ax_p.set_xlim( [-np.pi,np.pi])\n",
    "    ax_p.set_ylim([-3,9])\n",
    " \n",
    "    ax_p.set_xlim([-np.pi,np.pi ]) \n",
    "    \n",
    "    ax_p.xaxis.set_major_locator(plt.MultipleLocator(np.pi )) \n",
    "    ax_p.xaxis.set_major_formatter(plt.FuncFormatter(phd.multiple_formatter()))  \n",
    "    \n",
    "    L = 20\n",
    "    rectangle_order = -5\n",
    "    rectangle1 = plt.Rectangle( ( -np.pi+0.3,-L/2), 2*np.pi-0.6,L, \n",
    "                                zorder=rectangle_order ,facecolor=obscure_col, edgecolor=obscure_edge ,alpha = obscure_alpha) \n",
    "    ax_p.add_patch(rectangle1)\n",
    "    \n",
    "        \n",
    "    ax_p.plot([-5,-5,],[-5,-4],color=ff_col,label='Control on',linewidth=3)\n",
    "    ax_p.plot([-5,-5,],[-5,-4],'k',label='Control off',linewidth=1 )\n",
    "    ax_p.plot([-5,-5,],[-5,-4],color=boost_col,label='Explore',linewidth=2 )\n",
    "    ax_p.legend(loc='lower center',fontsize = 8)\n",
    "    \n",
    "    \n",
    "    ax_p.annotate('Goal: Feedback region', (np.pi,0), (-1.5,3),arrowprops=dict(arrowstyle='->') , fontsize = annotate_font) \n",
    "\n",
    "    dx =  LQR_limit \n",
    "    x_points = np.array([-dx, dx, dx, -dx])+np.pi\n",
    "    y_points = np.array([1.,0,-1.,0])*1.88\n",
    "    ax_p.fill( x_points-2*np.pi, y_points,facecolor=lqr_fill, zorder = -6,alpha=0.2 )\n",
    "    ax_p.fill( x_points , y_points,facecolor=lqr_fill, zorder = -6,alpha=0.2,)\n",
    "\n",
    "    \n",
    "\n",
    "    ff.plot_add_contours(ax_p) \n",
    "\n",
    "    ax_p.set_xlabel(r'$\\theta$ (rad)') \n",
    "    ax_p.set_ylabel(r'$\\dot{\\theta}$ (rad/s)')\n",
    "    ax_p.set_ylim([-0.1,8])  \n",
    "\n",
    "    ax_p.set_ylabel(r'$\\dot{\\theta}_0$ (rad/s)' )\n",
    "\n",
    "\n",
    "    return( ax_p ) \n",
    "\n",
    "fig, ax  = plt.subplots(1,1,figsize= (3.4,3) ,dpi=100)  \n",
    "plot_many_lines(ax)   "
   ]
  },
  {
   "cell_type": "markdown",
   "metadata": {},
   "source": [
    "# Combine final figure"
   ]
  },
  {
   "cell_type": "code",
   "execution_count": null,
   "metadata": {},
   "outputs": [],
   "source": [
    "fig_dim = (3.2,1.8) \n",
    "fig = plt.figure( figsize= fig_dim,dpi = 100) \n",
    "\n",
    "ax = plt.axes([ 0 , 0 , .63 ,  1] )   \n",
    "ax1= plt.axes([ .7, .0, .3 , 1] )    \n",
    "\n",
    "\n",
    "plot_many_lines(ax)  \n",
    "ax.yaxis.set_major_locator( plt.MultipleLocator(4) ) \n",
    "ax1.yaxis.set_major_locator( plt.MultipleLocator(4) ) \n",
    "\n",
    "plot_line_npy( ax1)   \n",
    "\n",
    "\n",
    "ax1.set_ylabel( r'$\\dot{\\theta}_0$ (rad/s)' ,va='top'  )\n",
    "yl = 9.5 \n",
    "                 \n",
    "label_dict = dict( fontsize = 8 , fontweight='bold' )   \n",
    "# ff.label_axes(fig,labels =['a)','b)','c)','d)'], loc=(-0.15,.95 ) , **label_dict  ) \n",
    "ff.label_axes2(fig,labels =['a)','b)','c)','d)'], loc=(-0.2,0.92 ) , **label_dict   )\n",
    " \n",
    "    \n",
    "ff.save_fig(fig, figs_path, fig_name)  "
   ]
  },
  {
   "cell_type": "code",
   "execution_count": null,
   "metadata": {},
   "outputs": [],
   "source": [
    " "
   ]
  },
  {
   "cell_type": "code",
   "execution_count": null,
   "metadata": {},
   "outputs": [],
   "source": []
  }
 ],
 "metadata": {
  "kernelspec": {
   "display_name": "Python 3",
   "language": "python",
   "name": "python3"
  },
  "language_info": {
   "codemirror_mode": {
    "name": "ipython",
    "version": 3
   },
   "file_extension": ".py",
   "mimetype": "text/x-python",
   "name": "python",
   "nbconvert_exporter": "python",
   "pygments_lexer": "ipython3",
   "version": "3.7.1"
  }
 },
 "nbformat": 4,
 "nbformat_minor": 2
}
