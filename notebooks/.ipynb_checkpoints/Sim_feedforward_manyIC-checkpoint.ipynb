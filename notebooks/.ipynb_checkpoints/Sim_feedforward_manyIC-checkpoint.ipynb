{
 "cells": [
  {
   "cell_type": "markdown",
   "metadata": {},
   "source": [
    "#  Simulation:\n",
    "Find 2-parameter feedforward trajectories for inverted pendulum control"
   ]
  },
  {
   "cell_type": "code",
   "execution_count": 1,
   "metadata": {},
   "outputs": [],
   "source": [
    "import numpy as np\n",
    "\n",
    "from scipy.integrate import odeint  \n",
    "\n",
    "import matplotlib.pyplot as plt  \n",
    "from matplotlib import animation, rc  \n",
    "import matplotlib\n",
    "\n",
    "from IPython.display import HTML \n",
    "\n",
    "import seaborn as sns\n",
    "import scipy as sci\n",
    "import controlpy   \n",
    "import os\n",
    "import sys\n",
    "\n",
    "import pickle\n",
    "\n",
    "from timeit import default_timer as timer\n",
    "\n",
    "# append function path to system\n",
    "base_path = os.path.abspath(os.path.join( os.getcwd()   , os.pardir ) )\n",
    "function_path = os.path.join(  base_path, 'functions') \n",
    "sys.path.append(function_path ) \n",
    " \n",
    "figs_path = os.path.join(  base_path, 'figs') \n",
    "data_path = os.path.join(  base_path, 'data')\n",
    "    \n",
    "# import custom functions \n",
    "from figure_settings import *    \n",
    "import figure_functions as ff\n",
    "import phasediagram as phd\n",
    "import singlependulum as sp  "
   ]
  },
  {
   "cell_type": "markdown",
   "metadata": {},
   "source": [
    "# Set simulation parameter"
   ]
  },
  {
   "cell_type": "code",
   "execution_count": 2,
   "metadata": {},
   "outputs": [],
   "source": [
    "# Simulation parameters  \n",
    "vis_limit = 0.3\n",
    "visible_x =  sp.wrap2periodic( np.array([-1,1])*vis_limit + np.pi, 2*np.pi, np.pi  ) \n",
    "\n",
    "dth_LQR_limit = np.array([ 0 , 1.88])"
   ]
  },
  {
   "cell_type": "markdown",
   "metadata": {},
   "source": [
    "# Optimize timing parameters"
   ]
  },
  {
   "cell_type": "code",
   "execution_count": 3,
   "metadata": {
    "scrolled": true
   },
   "outputs": [
    {
     "name": "stdout",
     "output_type": "stream",
     "text": [
      "t1, tau:  [1.25156250e+00 4.18935719e-16]    y0:  [-2.84159265  0.5       ]\n",
      "t1, tau:  [1.25156250e+00 4.18935719e-16]    y0:  [-2.84159265  0.65      ]\n",
      "t1, tau:  [1.25156250e+00 4.18935719e-16]    y0:  [-2.84159265  0.8       ]\n",
      "t1, tau:  [1.25156250e+00 4.18935719e-16]    y0:  [-2.84159265  0.95      ]\n",
      "t1, tau:  [ 1.65117188 -0.07125   ]    y0:  [-2.84159265  1.1       ]\n",
      "t1, tau:  [ 1.65117188 -0.07125   ]    y0:  [-2.84159265  1.25      ]\n",
      "t1, tau:  [ 1.65117188 -0.07125   ]    y0:  [-2.84159265  1.4       ]\n",
      "t1, tau:  [ 1.65117188 -0.07125   ]    y0:  [-2.84159265  1.55      ]\n",
      "t1, tau:  [ 1.44257813 -0.02875   ]    y0:  [-2.84159265  1.7       ]\n",
      "t1, tau:  [ 1.41796875 -0.055     ]    y0:  [-2.84159265  1.85      ]\n",
      "t1, tau:  [0.59907113 0.01196686]    y0:  [-2.84159265  2.        ]\n",
      "t1, tau:  [ 0.56914663 -0.02884326]    y0:  [-2.84159265  2.15      ]\n",
      "t1, tau:  [0.55544673 0.04504093]    y0:  [-2.84159265  2.3       ]\n",
      "t1, tau:  [ 0.53630011 -0.06350927]    y0:  [-2.84159265  2.45      ]\n",
      "t1, tau:  [0.55297422 0.08091015]    y0:  [-2.84159265  2.6       ]\n",
      "t1, tau:  [0.52462907 0.1005132 ]    y0:  [-2.84159265  2.75      ]\n",
      "t1, tau:  [0.49544678 0.12170898]    y0:  [-2.84159265  2.9       ]\n",
      "t1, tau:  [ 0.47279627 -0.14404955]    y0:  [-2.84159265  3.05      ]\n",
      "t1, tau:  [0.44743753 0.16718272]    y0:  [-2.84159265  3.2       ]\n",
      "t1, tau:  [ 0.42663077 -0.19067557]    y0:  [-2.84159265  3.35      ]\n",
      "t1, tau:  [0.41704166 0.21605613]    y0:  [-2.84159265  3.5       ]\n",
      "t1, tau:  [0.3733734  0.24295342]    y0:  [-2.84159265  3.65      ]\n",
      "t1, tau:  [ 0.34466992 -0.27082236]    y0:  [-2.84159265  3.8       ]\n",
      "t1, tau:  [0.32365723 0.2995752 ]    y0:  [-2.84159265  3.95      ]\n",
      "t1, tau:  [0.30621945 0.3302786 ]    y0:  [-2.84159265  4.1       ]\n",
      "t1, tau:  [0.27734622 0.36199279]    y0:  [-2.84159265  4.25      ]\n",
      "t1, tau:  [0.24473645 0.39621331]    y0:  [-2.84159265  4.4       ]\n",
      "t1, tau:  [0.22011856 0.43138448]    y0:  [-2.84159265  4.55      ]\n",
      "t1, tau:  [0.19003212 0.46804521]    y0:  [-2.84159265  4.7       ]\n",
      "t1, tau:  [0.15248055 0.50839814]    y0:  [-2.84159265  4.85      ]\n",
      "t1, tau:  [0.13011712 0.54797528]    y0:  [-2.84159265  5.        ]\n",
      "time elapsed:  1665.244750968\n"
     ]
    }
   ],
   "source": [
    "opt_tol = 1e-4 \n",
    "opt_method = 'Nelder-Mead'\n",
    "\n",
    "n_opts = 31 \n",
    "dth_range = np.linspace(0.5,5.,n_opts)\n",
    " \n",
    "x0 = np.array([.75, 0.2])  \n",
    "y0 = np.array( [-np.pi+0.3,4])\n",
    "\n",
    "u_list = [] \n",
    "start = timer()\n",
    " \n",
    "for dth in dth_range:\n",
    "\n",
    "    y0 = np.array( [-np.pi+0.3,dth])  \n",
    "    minimizer_kwargs = {\"method\":'Nelder-Mead', \"jac\":False, \"args\": (y0,)}\n",
    "    ret = sci.optimize.basinhopping( sp.run_sim_opt, x0, minimizer_kwargs=minimizer_kwargs,\n",
    "                   niter=10)\n",
    "    res = ret.x\n",
    "    print('t1, tau: ',res,  '   y0: ', y0) \n",
    "    \n",
    "    u_list.append(res)  \n",
    " \n",
    "print('time elapsed: ', timer() - start) "
   ]
  },
  {
   "cell_type": "markdown",
   "metadata": {},
   "source": [
    "# reformat results "
   ]
  },
  {
   "cell_type": "code",
   "execution_count": 13,
   "metadata": {},
   "outputs": [],
   "source": [
    "result_list = []\n",
    "for j,list1 in enumerate(u_list): \n",
    "    y0 = np.array( [-np.pi+0.3,dth_range[j]] ) \n",
    "    result_list.append( sp.eval_control_cost( list1, y0 )  ) \n",
    "#     result_list.append( sp.run_sim_opt( list1, y0 )  ) \n",
    "    "
   ]
  },
  {
   "cell_type": "markdown",
   "metadata": {},
   "source": [
    "# Plot results"
   ]
  },
  {
   "cell_type": "code",
   "execution_count": 15,
   "metadata": {},
   "outputs": [
    {
     "name": "stdout",
     "output_type": "stream",
     "text": [
      "13766618.379501412\n"
     ]
    },
    {
     "data": {
      "image/png": "[encoded data removed]",
      "text/plain": [
       "<Figure size 600x300 with 2 Axes>"
      ]
     },
     "metadata": {
      "needs_background": "light"
     },
     "output_type": "display_data"
    }
   ],
   "source": [
    "fig, (ax1,ax2)  = plt.subplots(1,2, figsize=(6,3) ,dpi = 100) \n",
    "\n",
    "for j,list_test in enumerate(result_list):\n",
    "    ax1.scatter( list_test[2] [:,0], list_test[2] [:,1],1,color='k' ) \n",
    "\n",
    "    u_bool = np.abs( list_test[3]  ) > 0.01\n",
    "    ax1.scatter(list_test[2] [u_bool,0], list_test[2] [u_bool,1],1,color='r' ) \n",
    "\n",
    "    ax2.plot( list_test[1] ,list_test[3]+4*j,'k')\n",
    "    \n",
    "print(list_test[0] )  "
   ]
  },
  {
   "cell_type": "markdown",
   "metadata": {},
   "source": [
    "# Find IC convergence per controller"
   ]
  },
  {
   "cell_type": "code",
   "execution_count": 16,
   "metadata": {},
   "outputs": [
    {
     "data": {
      "text/plain": [
       "<matplotlib.collections.PolyCollection at 0x5c434f6b70>"
      ]
     },
     "execution_count": 16,
     "metadata": {},
     "output_type": "execute_result"
    },
    {
     "data": {
      "image/png": "[encoded data removed]",
      "text/plain": [
       "<Figure size 432x288 with 1 Axes>"
      ]
     },
     "metadata": {
      "needs_background": "light"
     },
     "output_type": "display_data"
    }
   ],
   "source": [
    "LQR_Mat = np.zeros( (len(dth_range),len(dth_range) ))\n",
    "\n",
    "for i,dth in enumerate(dth_range ):\n",
    "    for j,x0 in enumerate(u_list ):\n",
    "        \n",
    "        y0 = np.array( [-np.pi+0.3,dth ] ) \n",
    "\n",
    "        result_thing = sp.eval_control_cost( x0 , y0 )\n",
    "#         result_thing = sp.run_sim_opt( x0 , y0 )\n",
    "        y_test = result_thing[2][-1,1] \n",
    "\n",
    "        LQR_conv_bool = (y_test > dth_LQR_limit[0] ) &   (y_test< dth_LQR_limit[1] ) \n",
    "        LQR_Mat[i,j] = LQR_conv_bool \n",
    "        \n",
    "LQR_Mat[0,30] = True\n",
    "plt.pcolor(LQR_Mat)\n"
   ]
  },
  {
   "cell_type": "markdown",
   "metadata": {},
   "source": [
    "# Find minimal set of protocols"
   ]
  },
  {
   "cell_type": "code",
   "execution_count": 17,
   "metadata": {},
   "outputs": [],
   "source": [
    "u_bool = [] \n",
    "count = 0\n",
    "ind_true = np.where(LQR_Mat[:,0] )\n",
    "\n",
    "u_min = [ [ ind_true[0][0] , ind_true[0][-1] ,0]  ]\n",
    "count = 0\n",
    "\n",
    "for j in np.arange(1, LQR_Mat.shape[1]  ): \n",
    "    ind_true = np.where(LQR_Mat[:,j] )\n",
    "    if ind_true[0][0] > u_min[count][1]:\n",
    "        u_min.append(  [  ind_true[0][0] , ind_true[0][-1],j  ] )\n",
    "        count+=1\n",
    "   \n",
    "u_set = np.array(u_min)[:,1] "
   ]
  },
  {
   "cell_type": "markdown",
   "metadata": {},
   "source": [
    "# create list of control parameters"
   ]
  },
  {
   "cell_type": "code",
   "execution_count": 18,
   "metadata": {},
   "outputs": [],
   "source": [
    "u_param = np.abs( list( [u_list[index] for index in u_set] ) ) \n",
    "dth_end = list( [dth_range[index] for index in u_set] )\n",
    "dth_start = np.append( 0,dth_end[:-1] ) \n",
    "u_param[0]  = np.array([0,0])"
   ]
  },
  {
   "cell_type": "markdown",
   "metadata": {},
   "source": [
    "# save data"
   ]
  },
  {
   "cell_type": "code",
   "execution_count": 19,
   "metadata": {},
   "outputs": [],
   "source": [
    "filename_manyIC = os.path.join( data_path,  'feedforward_manyIC.pkl' ) \n",
    "with open( filename_manyIC, 'wb') as f:\n",
    "    pickle.dump( result_list, f) \n",
    "     \n",
    "filename_grouped = os.path.join( data_path,  'feedforward_grouping_minimal_set.pkl') \n",
    "with open(filename_grouped, 'wb') as f:\n",
    "    pickle.dump( [u_param,dth_start,dth_end] , f) "
   ]
  }
 ],
 "metadata": {
  "kernelspec": {
   "display_name": "Python 3",
   "language": "python",
   "name": "python3"
  },
  "language_info": {
   "codemirror_mode": {
    "name": "ipython",
    "version": 3
   },
   "file_extension": ".py",
   "mimetype": "text/x-python",
   "name": "python",
   "nbconvert_exporter": "python",
   "pygments_lexer": "ipython3",
   "version": "3.7.1"
  }
 },
 "nbformat": 4,
 "nbformat_minor": 2
}
