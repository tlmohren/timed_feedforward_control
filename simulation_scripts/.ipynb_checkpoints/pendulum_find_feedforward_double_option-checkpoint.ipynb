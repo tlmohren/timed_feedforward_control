{
 "cells": [
  {
   "cell_type": "code",
   "execution_count": 31,
   "metadata": {},
   "outputs": [],
   "source": [
    "import numpy as np\n",
    "import matplotlib.pyplot as plt  \n",
    "from scipy.integrate import odeint \n",
    "import dynamicpendulums.phasediagram as phd\n",
    "import dynamicpendulums.singlependulum as sp\n",
    "from matplotlib import animation, rc   \n",
    "from IPython.display import HTML\n",
    " # plot results      \n",
    "import seaborn as sns\n",
    "import matplotlib\n",
    "\n",
    "import controlpy   "
   ]
  },
  {
   "cell_type": "code",
   "execution_count": 32,
   "metadata": {},
   "outputs": [],
   "source": [
    "# Simulation parameters \n",
    "\n",
    "LQR_limit = 0.3\n",
    "visible_x =  sp.wrap2periodic( np.array([-1,1])*LQR_limit + np.pi, 2*np.pi, np.pi  ) "
   ]
  },
  {
   "cell_type": "code",
   "execution_count": 33,
   "metadata": {},
   "outputs": [],
   "source": [
    "def run_sim_opt( x0, y0 ) : \n",
    "    t1 = x0[0]\n",
    "    tau = x0[1]  \n",
    "    \n",
    "    \n",
    "    t2 = x0[2]\n",
    "    tau2 = x0[3]  \n",
    "    \n",
    "    # sim parameters \n",
    "    dt = 0.001; \n",
    "    tLast = 2. \n",
    "    n_steps = np.int(tLast/dt) \n",
    "    t = np.array([0,dt])  \n",
    "    tInt = np.arange(0,tLast+dt, dt) ;\n",
    "    \n",
    "    Q = 1.\n",
    "    R = 100. \n",
    "\n",
    "    # IC\n",
    "    ## y0 is given\n",
    "    un = 0\n",
    "    time_sign = 1\n",
    "\n",
    "    # initialize lists \n",
    "    y = []\n",
    "    u = []\n",
    "    \n",
    "    \n",
    "    for j in range(n_steps):\n",
    "        y.append(y0)  \n",
    "        u.append(un)     \n",
    "        t_sim = tInt[j]\n",
    "#         if (t_sim> t1) & (t_sim< (t1+np.abs(tau) )) & (tau>0):\n",
    "#             un = 3\n",
    "#         elif (t_sim> t1) & (t_sim< (t1+np.abs(tau) )) & (tau<0):\n",
    "#             un = -3\n",
    "#         else: \n",
    "#             un = 0 \n",
    "            \n",
    "            \n",
    "        if (t_sim> t1) & (t_sim< (t1+np.abs(tau) )) & (tau>0):\n",
    "            un = 3\n",
    "        elif (t_sim> t1) & (t_sim< (t1+np.abs(tau) )) & (tau<0):\n",
    "            un = -3\n",
    "            \n",
    "        elif (t_sim> t2) & (t_sim< (t2+np.abs(tau2) )) & (tau2>0):\n",
    "            un =  3\n",
    "        elif (t_sim> t2) & (t_sim< (t2+np.abs(tau2) )) & (tau2<0):\n",
    "            un = -3\n",
    "        else: \n",
    "            un = 0 \n",
    "            \n",
    "            \n",
    "            \n",
    "        y1 = odeint(  sp.pendulum_ode, y0,  t, args=(un ,time_sign,)  )[1]     # ode solver \n",
    "        y1[0] = sp.wrap2periodic(y1[0]) \n",
    "         \n",
    "        y0 = y1  \n",
    "        \n",
    "        \n",
    "        \n",
    "        E = sp.compute_dE( y0[0],  y0[1] ) \n",
    "        e_error = np.abs(E )  \n",
    " \n",
    " \n",
    "        if (y1[0] > visible_x[0]) & (e_error < 0.3):              \n",
    "            break \n",
    "            \n",
    "    # compute cost\n",
    "    E = sp.compute_dE( np.array(y)[:,0], np.array(y)[:,1] )\n",
    "\n",
    "    e_error = np.abs(E[-1]) \n",
    "    if e_error < 0.3:\n",
    "        e_error = 0 \n",
    "        \n",
    "        \n",
    "        \n",
    "    U = np.array(u) \n",
    "    \n",
    "    J = np.sum( E**2*Q+ U**2*R)  + 1e8*e_error\n",
    "    t_list = tInt[:(j+1)] \n",
    "    \n",
    "#     data_list.append( [t_list,  y, u, J ] ) \n",
    "    \n",
    "\n",
    "#     return J, t_list, np.array(y), U \n",
    "    return J \n",
    "\n",
    "\n",
    "\n",
    "\n",
    "\n",
    "\n",
    "\n",
    "\n",
    "\n",
    "\n",
    "def eval_sim( x0 ,y0 ) : \n",
    "    t1 = x0[0]\n",
    "    tau = x0[1]  \n",
    "    t2 = x0[2]\n",
    "    tau2 = x0[3]  \n",
    "    \n",
    "    \n",
    "    # sim parameters \n",
    "    dt = 0.001; \n",
    "    tLast = 5. \n",
    "    n_steps = np.int(tLast/dt) \n",
    "    t = np.array([0,dt])  \n",
    "    tInt = np.arange(0,tLast+dt, dt) ;\n",
    "    \n",
    "    Q = 1.\n",
    "    R = 100. \n",
    "\n",
    "    # IC\n",
    "    ## y0 is given\n",
    "    un = 0\n",
    "    time_sign = 1\n",
    "\n",
    "    # initialize lists \n",
    "    y = []\n",
    "    u = [] \n",
    "    \n",
    "    for j in range(n_steps):\n",
    "        y.append(y0)  \n",
    "        u.append(un)     \n",
    "        t_sim = tInt[j]\n",
    "        if (t_sim> t1) & (t_sim< (t1+np.abs(tau) )) & (tau>0):\n",
    "            un = 3\n",
    "        elif (t_sim> t1) & (t_sim< (t1+np.abs(tau) )) & (tau<0):\n",
    "            un = -3\n",
    "            \n",
    "        elif (t_sim> t2) & (t_sim< (t2+np.abs(tau2) )) & (tau2>0):\n",
    "            un =  3\n",
    "        elif (t_sim> t2) & (t_sim< (t2+np.abs(tau2) )) & (tau2<0):\n",
    "            un = -3\n",
    "        else: \n",
    "            un = 0 \n",
    "            \n",
    "            \n",
    "        y1 = odeint(  sp.pendulum_ode, y0,  t, args=(un ,time_sign,)  )[1]     # ode solver \n",
    "        y1[0] = sp.wrap2periodic(y1[0]) \n",
    "         \n",
    "        y0 = y1  \n",
    "        \n",
    "        E = sp.compute_dE( y0[0],  y0[1] ) \n",
    "        e_error = np.abs(E )  \n",
    " \n",
    "        if (y1[0] > visible_x[0]) & (e_error < 0.3):           \n",
    "            break \n",
    "            \n",
    "    # compute cost\n",
    "    E = sp.compute_dE( np.array(y)[:,0], np.array(y)[:,1] )\n",
    "\n",
    "    U = np.array(u) \n",
    "    \n",
    "    e_error = np.abs(E[-1]) \n",
    "    if e_error < 0.3:\n",
    "        e_error = 0 \n",
    "        \n",
    "    J = np.sum( E**2*Q+ U**2*R)  + 1e7*e_error\n",
    "    t_list = tInt[:(j+1)] \n",
    "      \n",
    "    return J, t_list, np.array(y), U  \n",
    " "
   ]
  },
  {
   "cell_type": "code",
   "execution_count": 34,
   "metadata": {},
   "outputs": [
    {
     "name": "stdout",
     "output_type": "stream",
     "text": [
      "Optimization terminated successfully.\n",
      "         Current function value: 472532.311454\n",
      "         Iterations: 56\n",
      "         Function evaluations: 143\n",
      "[ 1.58191518 -0.73075972  7.06773168  0.27565341]\n"
     ]
    }
   ],
   "source": [
    " \n",
    "import scipy as sci\n",
    "\n",
    "\n",
    "x0 = np.array([.5, .2,2.5, .2])  \n",
    "y0 = np.array( [-np.pi+0.3,4])\n",
    "\n",
    "res = sci.optimize.fmin( run_sim_opt, x0, args = (y0,) )\n",
    "\n",
    "print(res) \n",
    "# res = minimize(run_sim, x0 )"
   ]
  },
  {
   "cell_type": "code",
   "execution_count": 35,
   "metadata": {},
   "outputs": [
    {
     "name": "stdout",
     "output_type": "stream",
     "text": [
      "t1, tau:  [ 0.27224276  0.00640011  1.83850298 -0.34968005]    y0:  [-2.84159265  0.5       ]\n",
      "t1, tau:  [ 1.04532384e-01  3.11744568e-04  1.87189198e+00 -5.00169640e-01]    y0:  [-2.84159265  1.05      ]\n",
      "t1, tau:  [ 0.66164242 -0.02783141  1.93522227 -0.08886026]    y0:  [-2.84159265  1.6       ]\n",
      "t1, tau:  [ 0.5524464  -0.08232736  1.88052092 -0.23522148]    y0:  [-2.84159265  2.15      ]\n",
      "t1, tau:  [ 0.5118516  -0.14772306  1.77911845 -0.21455427]    y0:  [-2.84159265  2.7       ]\n",
      "t1, tau:  [ 0.60441345 -0.17341445  1.90836696 -0.09171023]    y0:  [-2.84159265  3.25      ]\n",
      "t1, tau:  [ 0.47319225 -0.16329977  1.83602078 -0.15897465]    y0:  [-2.84159265  3.8       ]\n",
      "t1, tau:  [ 0.36514147 -0.22467538  1.63375434 -0.20378788]    y0:  [-2.84159265  4.35      ]\n",
      "t1, tau:  [ 0.29366834 -0.24432503  1.50427143 -0.29771244]    y0:  [-2.84159265  4.9       ]\n",
      "t1, tau:  [ 0.15539984 -0.37342349  1.45231478 -0.30537035]    y0:  [-2.84159265  5.45      ]\n",
      "t1, tau:  [ 0.17062643 -0.37607347  1.1690863  -0.45211134]    y0:  [-2.84159265  6.        ]\n"
     ]
    }
   ],
   "source": [
    "# n_opts = 1\n",
    "# dth_range = np.linspace(3,5,n_opts)\n",
    "\n",
    "# n_opts = 1\n",
    "# dth_range = np.linspace(1,5,n_opts)\n",
    "\n",
    "n_opts = 11\n",
    "dth_range = np.linspace(0.5,6,n_opts)\n",
    "\n",
    "\n",
    "x0 = np.array([.5, -.2, 1.5,-0.2])  \n",
    "# x0 = np.array([.5, 0., 1.5, 0.])  \n",
    "y0 = np.array( [-np.pi+0.3,4])\n",
    "\n",
    "u_list = []\n",
    "\n",
    "for dth in dth_range:\n",
    "\n",
    "    y0 = np.array( [-np.pi+0.3,dth]) \n",
    "#     res = sci.optimize.fmin( run_sim_opt, x0, args = (y0,), ftol=1e-7,)\n",
    "    outp = sci.optimize.minimize( run_sim_opt, x0, args = (y0,), method='Nelder-Mead' )\n",
    "    res = outp.x\n",
    "    print('t1, tau: ',res,  '   y0: ', y0) \n",
    "    u_list.append(res) "
   ]
  },
  {
   "cell_type": "code",
   "execution_count": 36,
   "metadata": {},
   "outputs": [
    {
     "ename": "AttributeError",
     "evalue": "'numpy.ndarray' object has no attribute 'x'",
     "output_type": "error",
     "traceback": [
      "\u001b[1;31m---------------------------------------------------------------------------\u001b[0m",
      "\u001b[1;31mAttributeError\u001b[0m                            Traceback (most recent call last)",
      "\u001b[1;32m<ipython-input-36-1ba72f345d10>\u001b[0m in \u001b[0;36m<module>\u001b[1;34m\u001b[0m\n\u001b[1;32m----> 1\u001b[1;33m \u001b[0mres\u001b[0m\u001b[1;33m.\u001b[0m\u001b[0mx\u001b[0m\u001b[1;33m\u001b[0m\u001b[1;33m\u001b[0m\u001b[0m\n\u001b[0m",
      "\u001b[1;31mAttributeError\u001b[0m: 'numpy.ndarray' object has no attribute 'x'"
     ]
    }
   ],
   "source": [
    "res.x\n"
   ]
  },
  {
   "cell_type": "code",
   "execution_count": 37,
   "metadata": {},
   "outputs": [
    {
     "data": {
      "image/png": "[encoded data removed]",
      "text/plain": [
       "<Figure size 720x504 with 1 Axes>"
      ]
     },
     "metadata": {
      "needs_background": "light"
     },
     "output_type": "display_data"
    }
   ],
   "source": [
    "fig,ax = plt.subplots(1,1,figsize = (10,7) )\n",
    "\n",
    "for j,list1 in enumerate(u_list):\n",
    "     \n",
    "    t1, tau,t2, tau2 = list1\n",
    "\n",
    "    tInt = np.arange(0,5,0.001)\n",
    "    u = np.zeros(len(tInt) )\n",
    "    t_bool = (tInt>t1) & (tInt< (t1+ np.abs(tau) ) )\n",
    "    t_bool2 = (tInt>t2) & (tInt< (t2+ np.abs(tau2) ) )\n",
    "    u[t_bool] = 3*np.sign(tau) \n",
    "    u[t_bool2] = 3*np.sign(tau2) \n",
    "    \n",
    "    ax .plot(tInt,u+j*4,'k') \n",
    "    ax .plot(tInt,np.zeros_like(u)+j*4,'.k') \n",
    "     "
   ]
  },
  {
   "cell_type": "code",
   "execution_count": null,
   "metadata": {},
   "outputs": [],
   "source": [
    " "
   ]
  },
  {
   "cell_type": "code",
   "execution_count": null,
   "metadata": {},
   "outputs": [],
   "source": []
  },
  {
   "cell_type": "code",
   "execution_count": 38,
   "metadata": {},
   "outputs": [],
   "source": [
    "result_list = []\n",
    "for j,list1 in enumerate(u_list):\n",
    "    \n",
    "    y0 = np.array( [-np.pi+0.3,dth_range[j]] ) \n",
    "    result_list.append( eval_sim( list1, y0 )  ) "
   ]
  },
  {
   "cell_type": "code",
   "execution_count": 45,
   "metadata": {},
   "outputs": [
    {
     "name": "stdout",
     "output_type": "stream",
     "text": [
      "257864.09081633156\n"
     ]
    },
    {
     "data": {
      "image/png": "[encoded data removed]",
      "text/plain": [
       "<Figure size 720x720 with 2 Axes>"
      ]
     },
     "metadata": {
      "needs_background": "light"
     },
     "output_type": "display_data"
    }
   ],
   "source": [
    "\n",
    "# j = 16\n",
    "\n",
    "# list_test = result_list[j]\n",
    "\n",
    "\n",
    "fig, (ax1,ax2)  = plt.subplots(2,1, figsize=(10,10) ) \n",
    "\n",
    "# for j,list_test in enumerate(result_list[3:5]):\n",
    "for j,list_test in enumerate(result_list[3:6] ):\n",
    "    ax1.scatter( list_test[2] [:,0], list_test[2] [:,1],1,color='k' ) \n",
    "\n",
    "    u_bool = np.abs( list_test[3]  ) > 0.01\n",
    "    ax1.scatter(list_test[2] [u_bool,0], list_test[2] [u_bool,1],1,color='r' ) \n",
    "\n",
    "    ax2.plot( list_test[1] ,list_test[3]+4*j,'k')\n",
    "print(list_test[0] ) \n",
    "# print( 'final energy', sp.compute_dE(y_data[-1,0], y_data[-1,1])) \n"
   ]
  },
  {
   "cell_type": "code",
   "execution_count": null,
   "metadata": {},
   "outputs": [],
   "source": [
    "# for list2 in result_list:"
   ]
  },
  {
   "cell_type": "code",
   "execution_count": null,
   "metadata": {},
   "outputs": [],
   "source": []
  },
  {
   "cell_type": "code",
   "execution_count": null,
   "metadata": {},
   "outputs": [],
   "source": []
  },
  {
   "cell_type": "code",
   "execution_count": null,
   "metadata": {},
   "outputs": [],
   "source": [
    "# y0 = np.array([-2.84159265 , 4.5])\n",
    "\n",
    "# x0 = np.array([    0.96171875, -0.02875     ] ) \n",
    "# x0 = np.array([    0.2, -0.59    ] ) \n",
    "# J,t_list,y,u = eval_sim(x0,y0) \n",
    "# data_list = []\n",
    "# data_list.append( [t_list,  y, u, J ] ) \n",
    "     \n",
    "# list = data_list[0]\n",
    "\n",
    "# y_data = np.array( list[1] ) \n",
    "# u_data = np.array( list[2] )\n",
    "# t_data = np.array( list[0] )\n",
    "# J = list[3]\n",
    "\n",
    "# fig, (ax1,ax2)  = plt.subplots(2,1, figsize=(10,7) )\n",
    " \n",
    "\n",
    "# # for  list in data_list[2]  :  \n",
    "# for list in data_list[0:1]:\n",
    "#     ax1.scatter( y_data[:,0], y_data[:,1],1,color='k' ) \n",
    "    \n",
    "#     u_bool = np.abs( u_data  ) > 0.01\n",
    "#     ax1.scatter(y_data[u_bool,0], y_data[u_bool,1],1,color='r' ) \n",
    "    \n",
    "#     ax2.plot(t_data,u_data)\n",
    "# print(J)\n",
    "\n",
    "# print( 'final energy', sp.compute_dE(y_data[-1,0], y_data[-1,1])) \n"
   ]
  },
  {
   "cell_type": "code",
   "execution_count": null,
   "metadata": {},
   "outputs": [],
   "source": [
    "x0"
   ]
  }
 ],
 "metadata": {
  "kernelspec": {
   "display_name": "Python 3",
   "language": "python",
   "name": "python3"
  },
  "language_info": {
   "codemirror_mode": {
    "name": "ipython",
    "version": 3
   },
   "file_extension": ".py",
   "mimetype": "text/x-python",
   "name": "python",
   "nbconvert_exporter": "python",
   "pygments_lexer": "ipython3",
   "version": "3.7.1"
  }
 },
 "nbformat": 4,
 "nbformat_minor": 2
}
