{
 "cells": [
  {
   "cell_type": "markdown",
   "metadata": {},
   "source": [
    "#  Find 2-parameter feedforward trajectories for inverted pendulum control\n",
    "\n",
    "### to do:\n",
    "- still unsure whether optimal trajectories are found"
   ]
  },
  {
   "cell_type": "code",
   "execution_count": 1,
   "metadata": {},
   "outputs": [],
   "source": [
    "import numpy as np\n",
    "import matplotlib.pyplot as plt  \n",
    "from scipy.integrate import odeint \n",
    "import dynamicpendulums.phasediagram as phd\n",
    "import dynamicpendulums.singlependulum as sp\n",
    "from matplotlib import animation, rc   \n",
    "from IPython.display import HTML\n",
    " # plot results      \n",
    "import seaborn as sns\n",
    "import matplotlib\n",
    "import scipy as sci\n",
    "import controlpy   \n",
    "from timeit import default_timer as timer"
   ]
  },
  {
   "cell_type": "code",
   "execution_count": 2,
   "metadata": {},
   "outputs": [],
   "source": [
    "# Simulation parameters  \n",
    "vis_limit = 0.3\n",
    "visible_x =  sp.wrap2periodic( np.array([-1,1])*vis_limit + np.pi, 2*np.pi, np.pi  ) \n",
    "\n",
    "dth_LQR_limit = np.array([ 0 , 1.88])"
   ]
  },
  {
   "cell_type": "code",
   "execution_count": 3,
   "metadata": {},
   "outputs": [],
   "source": [
    "def run_sim_opt( x0, y0 ) : \n",
    "    t1 = x0[0]\n",
    "    tau = x0[1]  \n",
    "    \n",
    "    dth_LQR_limit = np.array([ 0 , 1.88])\n",
    "    \n",
    "    # sim parameters \n",
    "    dt = 0.001; \n",
    "    tLast = 2. \n",
    "    n_steps = np.int(tLast/dt) \n",
    "    t = np.array([0,dt])  \n",
    "    tInt = np.arange(0,tLast+dt, dt) ;\n",
    "    \n",
    "    Q = 1.\n",
    "    R = 100.  \n",
    "    un = 0   \n",
    "    time_sign = 1 \n",
    "    y = []\n",
    "    u = []   # initialize lists \n",
    "    \n",
    "    for j in range(n_steps):\n",
    "        y.append(y0)  \n",
    "        u.append(un)     \n",
    "        t_sim = tInt[j]\n",
    "        if  (t_sim> t1) & (t_sim< (t1+ np.abs(tau) )) :\n",
    "            un = -3\n",
    "        else: \n",
    "            un = 0 \n",
    "        y1 = odeint(  sp.pendulum_ode, y0,  t, args=(un ,time_sign,)  )[1]     # ode solver \n",
    "        y1[0] = sp.wrap2periodic(y1[0]) \n",
    "         \n",
    "        y0 = y1   \n",
    "        if y1[0] > visible_x[0]:              \n",
    "            break  \n",
    "            \n",
    "    \n",
    "    # compute cost\n",
    "    LQR_conv_bool = (y1[0] > dth_LQR_limit[0] ) &   (y1[1] < dth_LQR_limit[1] )\n",
    "    \n",
    "    E = sp.compute_dE( np.array(y)[:,0], np.array(y)[:,1] )\n",
    "    U = np.array(u) \n",
    "    \n",
    "    e_error = np.abs(E[-1])  \n",
    "    LQR_conv_bool = (y1[0] > dth_LQR_limit[0] ) &   (y1[1] < dth_LQR_limit[1] )\n",
    "         \n",
    "    if  LQR_conv_bool:\n",
    "        e_error = 0  \n",
    "    J = np.sum( E**2*Q+ U**2*R)  + 1e7*e_error \n",
    "     \n",
    "    return J "
   ]
  },
  {
   "cell_type": "code",
   "execution_count": null,
   "metadata": {},
   "outputs": [],
   "source": []
  },
  {
   "cell_type": "code",
   "execution_count": null,
   "metadata": {},
   "outputs": [],
   "source": [
    " "
   ]
  },
  {
   "cell_type": "code",
   "execution_count": 4,
   "metadata": {},
   "outputs": [
    {
     "name": "stdout",
     "output_type": "stream",
     "text": [
      "t1, tau:  [1.25156250e+00 4.18935719e-16]    y0:  [-2.84159265  0.5       ]\n",
      "t1, tau:  [1.25156250e+00 4.18935719e-16]    y0:  [-2.84159265  0.65      ]\n",
      "t1, tau:  [1.25156250e+00 4.18935719e-16]    y0:  [-2.84159265  0.8       ]\n",
      "t1, tau:  [1.25156250e+00 4.18935719e-16]    y0:  [-2.84159265  0.95      ]\n",
      "t1, tau:  [ 1.65117188 -0.07125   ]    y0:  [-2.84159265  1.1       ]\n",
      "t1, tau:  [ 1.65117188 -0.07125   ]    y0:  [-2.84159265  1.25      ]\n",
      "t1, tau:  [ 1.65117188 -0.07125   ]    y0:  [-2.84159265  1.4       ]\n",
      "t1, tau:  [ 1.65117188 -0.07125   ]    y0:  [-2.84159265  1.55      ]\n",
      "t1, tau:  [ 1.44257813 -0.02875   ]    y0:  [-2.84159265  1.7       ]\n",
      "t1, tau:  [ 1.41796875 -0.055     ]    y0:  [-2.84159265  1.85      ]\n",
      "t1, tau:  [0.59907113 0.01196686]    y0:  [-2.84159265  2.        ]\n",
      "t1, tau:  [0.69193296 0.02720291]    y0:  [-2.84159265  2.15      ]\n",
      "t1, tau:  [0.55544673 0.04504093]    y0:  [-2.84159265  2.3       ]\n",
      "t1, tau:  [0.62174283 0.06226109]    y0:  [-2.84159265  2.45      ]\n",
      "t1, tau:  [0.55297422 0.08091015]    y0:  [-2.84159265  2.6       ]\n",
      "t1, tau:  [0.52975969 0.10035585]    y0:  [-2.84159265  2.75      ]\n",
      "t1, tau:  [0.49544678 0.12170898]    y0:  [-2.84159265  2.9       ]\n",
      "t1, tau:  [0.47935764 0.14439791]    y0:  [-2.84159265  3.05      ]\n",
      "t1, tau:  [0.43036509 0.16853584]    y0:  [-2.84159265  3.2       ]\n",
      "t1, tau:  [0.43361713 0.19072757]    y0:  [-2.84159265  3.35      ]\n",
      "t1, tau:  [0.39222922 0.21722668]    y0:  [-2.84159265  3.5       ]\n",
      "t1, tau:  [0.3733734  0.24295342]    y0:  [-2.84159265  3.65      ]\n",
      "t1, tau:  [0.34814937 0.27139511]    y0:  [-2.84159265  3.8       ]\n",
      "t1, tau:  [0.32365723 0.2995752 ]    y0:  [-2.84159265  3.95      ]\n",
      "t1, tau:  [0.28028913 0.33261353]    y0:  [-2.84159265  4.1       ]\n",
      "t1, tau:  [0.27810197 0.36265454]    y0:  [-2.84159265  4.25      ]\n",
      "t1, tau:  [0.24545777 0.39651033]    y0:  [-2.84159265  4.4       ]\n",
      "t1, tau:  [0.23015442 0.43272919]    y0:  [-2.84159265  4.55      ]\n",
      "t1, tau:  [0.16091143 0.47171134]    y0:  [-2.84159265  4.7       ]\n",
      "t1, tau:  [0.15248055 0.50839814]    y0:  [-2.84159265  4.85      ]\n",
      "t1, tau:  [0.10324328 0.55268405]    y0:  [-2.84159265  5.        ]\n",
      "time elapsed:  380.306053012\n"
     ]
    }
   ],
   "source": [
    " # optimization parameters ---------------\n",
    "opt_tol = 1e-4 \n",
    "opt_method = 'Nelder-Mead'\n",
    "# opt_method = 'Powell'\n",
    "\n",
    "# location parameters --------------\n",
    "n_opts = 31 \n",
    "dth_range = np.linspace(0.5,5.,n_opts)\n",
    " \n",
    "x0 = np.array([.75, 0.2])  \n",
    "y0 = np.array( [-np.pi+0.3,4])\n",
    "\n",
    "u_list = [] \n",
    "start = timer()\n",
    "\n",
    "for dth in dth_range:\n",
    "\n",
    "    y0 = np.array( [-np.pi+0.3,dth]) \n",
    "    outp = sci.optimize.minimize( run_sim_opt, x0, args = (y0,), \n",
    "                                 method= opt_method,  tol=opt_tol ) \n",
    "    res = outp.x\n",
    "    print('t1, tau: ',res,  '   y0: ', y0) \n",
    "    \n",
    "    u_list.append(res) \n",
    "     \n",
    "#     res = sci.optimize.fmin( run_sim_opt, x0, args = (y0,), ftol=1e-5,)\n",
    " \n",
    "print('time elapsed: ', timer() - start) # Time in seconds, e.g. 5.38091952400282"
   ]
  },
  {
   "cell_type": "code",
   "execution_count": null,
   "metadata": {},
   "outputs": [],
   "source": [
    " "
   ]
  },
  {
   "cell_type": "code",
   "execution_count": 5,
   "metadata": {},
   "outputs": [
    {
     "data": {
      "image/png": "[encoded data removed]",
      "text/plain": [
       "<Figure size 720x504 with 1 Axes>"
      ]
     },
     "metadata": {
      "needs_background": "light"
     },
     "output_type": "display_data"
    }
   ],
   "source": [
    "fig,ax = plt.subplots(1,1,figsize = (10,7) )\n",
    "\n",
    "for j,list1 in enumerate(u_list): \n",
    "    t1, tau = list1 \n",
    "    tInt = np.arange(0,2,0.001)\n",
    "    u = np.zeros(len(tInt) )\n",
    "    t_bool = (tInt>t1) & (tInt< (t1+ np.abs(tau) ) )\n",
    "    u[t_bool] = -3   \n",
    "    \n",
    "    ax .plot(tInt,u+j*4,'k')  "
   ]
  },
  {
   "cell_type": "code",
   "execution_count": null,
   "metadata": {},
   "outputs": [],
   "source": [
    " "
   ]
  },
  {
   "cell_type": "code",
   "execution_count": 6,
   "metadata": {},
   "outputs": [],
   "source": [
    "def eval_sim( x0 ,y0 ) : \n",
    "    t1 = x0[0]\n",
    "    tau = x0[1]  \n",
    "    \n",
    "    # sim parameters \n",
    "    dt = 0.001; \n",
    "    tLast = 2. \n",
    "    n_steps = np.int(tLast/dt) \n",
    "    t = np.array([0,dt])  \n",
    "    tInt = np.arange(0,tLast+dt, dt) ;\n",
    "    \n",
    "    Q = 1.\n",
    "    R = 100.   \n",
    "    un = 0\n",
    "    time_sign = 1 \n",
    "    y = []     # initialize lists  \n",
    "    u = [] \n",
    "    \n",
    "    for j in range(n_steps):\n",
    "        y.append(y0)  \n",
    "        u.append(un)     \n",
    "        t_sim = tInt[j]\n",
    "        if   (t_sim> t1) & (t_sim< (t1+np.abs(tau) )) :\n",
    "            un = -3\n",
    "        else: \n",
    "            un = 0 \n",
    "        y1 = odeint(  sp.pendulum_ode, y0,  t, args=(un ,time_sign,)  )[1]     # ode solver \n",
    "        y1[0] = sp.wrap2periodic(y1[0]) \n",
    "         \n",
    "        y0 = y1  \n",
    "        \n",
    "        if y1[0] > visible_x[0]:              \n",
    "            break \n",
    "            \n",
    "    # compute cost\n",
    "    E = sp.compute_dE( np.array(y)[:,0], np.array(y)[:,1] ) \n",
    "    U = np.array(u)  \n",
    "    e_error = np.abs(E[-1]) \n",
    "    if e_error < 0.3:\n",
    "        e_error = 0  \n",
    "        \n",
    "    J = np.sum( E**2*Q+ U**2*R)  + 1e5*e_error\n",
    "    t_list = tInt[:(j+1)] \n",
    "      \n",
    "    return J, t_list, np.array(y), U   "
   ]
  },
  {
   "cell_type": "code",
   "execution_count": 21,
   "metadata": {},
   "outputs": [],
   "source": [
    "result_list = []\n",
    "for j,list1 in enumerate(u_list): \n",
    "    y0 = np.array( [-np.pi+0.3,dth_range[j]] ) \n",
    "    result_list.append( eval_sim( list1, y0 )  ) \n",
    "    \n",
    "import pickle\n",
    "     \n",
    "    \n",
    "with open('u_manyIC3.pkl', 'wb') as f:\n",
    "    pickle.dump( result_list, f) "
   ]
  },
  {
   "cell_type": "code",
   "execution_count": null,
   "metadata": {},
   "outputs": [],
   "source": [
    " "
   ]
  },
  {
   "cell_type": "code",
   "execution_count": 26,
   "metadata": {},
   "outputs": [
    {
     "name": "stdout",
     "output_type": "stream",
     "text": [
      "675053.6940000573\n"
     ]
    },
    {
     "data": {
      "image/png": "[encoded data removed]",
      "text/plain": [
       "<Figure size 600x300 with 2 Axes>"
      ]
     },
     "metadata": {
      "needs_background": "light"
     },
     "output_type": "display_data"
    }
   ],
   "source": [
    "fig, (ax1,ax2)  = plt.subplots(1,2, figsize=(6,3) ,dpi = 100) \n",
    "\n",
    "for j,list_test in enumerate(result_list):\n",
    "    ax1.scatter( list_test[2] [:,0], list_test[2] [:,1],1,color='k' ) \n",
    "\n",
    "    u_bool = np.abs( list_test[3]  ) > 0.01\n",
    "    ax1.scatter(list_test[2] [u_bool,0], list_test[2] [u_bool,1],1,color='r' ) \n",
    "\n",
    "    ax2.plot( list_test[1] ,list_test[3]+4*j,'k')\n",
    "    \n",
    "print(list_test[0] )  "
   ]
  },
  {
   "cell_type": "code",
   "execution_count": null,
   "metadata": {},
   "outputs": [],
   "source": [
    " "
   ]
  },
  {
   "cell_type": "code",
   "execution_count": 11,
   "metadata": {},
   "outputs": [
    {
     "data": {
      "text/plain": [
       "Text(0.5, 0, 'u_j')"
      ]
     },
     "execution_count": 11,
     "metadata": {},
     "output_type": "execute_result"
    },
    {
     "data": {
      "image/png": "[encoded data removed]",
      "text/plain": [
       "<Figure size 432x288 with 1 Axes>"
      ]
     },
     "metadata": {
      "needs_background": "light"
     },
     "output_type": "display_data"
    }
   ],
   "source": [
    "LQR_Mat = np.zeros( (len(dth_range),len(dth_range) ))\n",
    "\n",
    "for i,dth in enumerate(dth_range ):\n",
    "    for j,x0 in enumerate(u_list ):\n",
    "        \n",
    "        y0 = np.array( [-np.pi+0.3,dth ] ) \n",
    "\n",
    "        result_thing = eval_sim( x0 , y0 )\n",
    "        y_test = result_thing[2][-1,1] \n",
    "\n",
    "        LQR_conv_bool = (y_test > dth_LQR_limit[0] ) &   (y_test< dth_LQR_limit[1] ) \n",
    "        LQR_Mat[i,j] = LQR_conv_bool \n",
    "        \n",
    "LQR_Mat[0,30] = True\n",
    "plt.pcolor(LQR_Mat)\n",
    "plt.ylabel('y0_i ')\n",
    "\n",
    "plt.xlabel('u_j') "
   ]
  },
  {
   "cell_type": "code",
   "execution_count": null,
   "metadata": {},
   "outputs": [],
   "source": []
  },
  {
   "cell_type": "code",
   "execution_count": 23,
   "metadata": {},
   "outputs": [],
   "source": [
    "u_bool = []\n",
    "# u_bool.append(0)\n",
    "count = 0\n",
    "ind_true = np.where(LQR_Mat[:,0] )\n",
    "\n",
    "u_min = [ [ ind_true[0][0] , ind_true[0][-1] ,0]  ]\n",
    "count = 0\n",
    "# # u_min = \n",
    "for j in np.arange(1, LQR_Mat.shape[1]  ):\n",
    "     \n",
    "    ind_true = np.where(LQR_Mat[:,j] )\n",
    "    if ind_true[0][0] > u_min[count][1]:\n",
    "        u_min.append(  [  ind_true[0][0] , ind_true[0][-1],j  ] )\n",
    "        count+=1\n",
    " \n",
    "u_min\n",
    "\n",
    "u_set = np.array(u_min)[:,1]\n",
    "# u_set"
   ]
  },
  {
   "cell_type": "markdown",
   "metadata": {},
   "source": [
    "# set of u's that will get everything into LQR orbit\n",
    "\n",
    "### still need to be coupled to IC bounds\n",
    "### currently there's possible gaps"
   ]
  },
  {
   "cell_type": "code",
   "execution_count": 24,
   "metadata": {},
   "outputs": [],
   "source": [
    "u_param = list( [u_list[index] for index in u_set] )\n",
    "dth_end = list( [dth_range[index] for index in u_set] )\n",
    "dth_start = np.append( 0,dth_end[:-1] ) \n",
    "u_param[0]  = np.array([0,0])\n",
    " \n",
    "import pickle\n",
    "with open('u_grouping.pkl', 'wb') as f:\n",
    "    pickle.dump( [u_param,dth_start,dth_end] , f) \n",
    " "
   ]
  },
  {
   "cell_type": "code",
   "execution_count": 25,
   "metadata": {},
   "outputs": [
    {
     "data": {
      "text/plain": [
       "[[array([0, 0]),\n",
       "  array([0.55297422, 0.08091015]),\n",
       "  array([0.43036509, 0.16853584]),\n",
       "  array([0.3733734 , 0.24295342]),\n",
       "  array([0.28028913, 0.33261353]),\n",
       "  array([0.23015442, 0.43272919])],\n",
       " array([0.  , 1.85, 2.6 , 3.2 , 3.65, 4.1 ]),\n",
       " [1.8499999999999999, 2.6, 3.1999999999999997, 3.65, 4.1, 4.55]]"
      ]
     },
     "execution_count": 25,
     "metadata": {},
     "output_type": "execute_result"
    }
   ],
   "source": [
    "[u_param,dth_start,dth_end]\n",
    "\n",
    "# u_param[0]  = np.array([0,0])\n",
    "# u_param"
   ]
  },
  {
   "cell_type": "code",
   "execution_count": null,
   "metadata": {},
   "outputs": [],
   "source": []
  },
  {
   "cell_type": "code",
   "execution_count": null,
   "metadata": {},
   "outputs": [],
   "source": []
  }
 ],
 "metadata": {
  "kernelspec": {
   "display_name": "Python 3",
   "language": "python",
   "name": "python3"
  },
  "language_info": {
   "codemirror_mode": {
    "name": "ipython",
    "version": 3
   },
   "file_extension": ".py",
   "mimetype": "text/x-python",
   "name": "python",
   "nbconvert_exporter": "python",
   "pygments_lexer": "ipython3",
   "version": "3.7.1"
  }
 },
 "nbformat": 4,
 "nbformat_minor": 2
}
