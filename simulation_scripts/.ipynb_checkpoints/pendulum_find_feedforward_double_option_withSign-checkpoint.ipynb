{
 "cells": [
  {
   "cell_type": "code",
   "execution_count": 1,
   "metadata": {},
   "outputs": [],
   "source": [
    "import numpy as np\n",
    "import matplotlib.pyplot as plt  \n",
    "from scipy.integrate import odeint \n",
    "import dynamicpendulums.phasediagram as phd\n",
    "import dynamicpendulums.singlependulum as sp\n",
    "from matplotlib import animation, rc   \n",
    "from IPython.display import HTML\n",
    " # plot results      \n",
    "import seaborn as sns\n",
    "import matplotlib\n",
    "\n",
    "import controlpy   "
   ]
  },
  {
   "cell_type": "code",
   "execution_count": 2,
   "metadata": {},
   "outputs": [],
   "source": [
    "# Simulation parameters \n",
    "\n",
    "LQR_limit = 0.3\n",
    "visible_x =  sp.wrap2periodic( np.array([-1,1])*LQR_limit + np.pi, 2*np.pi, np.pi  ) "
   ]
  },
  {
   "cell_type": "code",
   "execution_count": 5,
   "metadata": {},
   "outputs": [],
   "source": [
    "def run_sim_opt( x0, y0 ) : \n",
    "    t1 = x0[0]\n",
    "    tau = x0[1]  \n",
    "    \n",
    "    \n",
    "    t2 = x0[2]\n",
    "    tau2 = x0[3]  \n",
    "    \n",
    "    sign_tau = x0[4]  \n",
    "    \n",
    "    # sim parameters \n",
    "    dt = 0.001; \n",
    "    tLast = 2. \n",
    "    n_steps = np.int(tLast/dt) \n",
    "    t = np.array([0,dt])  \n",
    "    tInt = np.arange(0,tLast+dt, dt) ;\n",
    "    \n",
    "    Q = 1.\n",
    "    R = 100. \n",
    "\n",
    "    # IC\n",
    "    ## y0 is given\n",
    "    un = 0\n",
    "    time_sign = 1\n",
    "\n",
    "    # initialize lists \n",
    "    y = []\n",
    "    u = []\n",
    "    \n",
    "    \n",
    "    for j in range(n_steps):\n",
    "        y.append(y0)  \n",
    "        u.append(un)     \n",
    "        t_sim = tInt[j]\n",
    "#         if (t_sim> t1) & (t_sim< (t1+np.abs(tau) )) & (tau>0):\n",
    "#             un = 3\n",
    "#         elif (t_sim> t1) & (t_sim< (t1+np.abs(tau) )) & (tau<0):\n",
    "#             un = -3\n",
    "#         else: \n",
    "#             un = 0 \n",
    "            \n",
    "            \n",
    "        if (t_sim> t1) & (t_sim< (t1+np.abs(tau) )) & (np.abs(sign_tau)>0):\n",
    "            un = 3\n",
    "        elif (t_sim> t2) & (t_sim< (t2+np.abs(tau2) )) & (np.abs(sign_tau)>0):\n",
    "            un =  3\n",
    "                                                       \n",
    "        elif (t_sim> t1) & (t_sim< (t1+np.abs(tau) )) & (np.abs(sign_tau)<0 ):\n",
    "            un = -3\n",
    "            \n",
    "        elif (t_sim> t2) & (t_sim< (t2+np.abs(tau2) )) &   (np.abs(sign_tau)<0 ):\n",
    "            un = -3\n",
    "        else: \n",
    "            un = 0 \n",
    "            \n",
    "            \n",
    "            \n",
    "        y1 = odeint(  sp.pendulum_ode, y0,  t, args=(un ,time_sign,)  )[1]     # ode solver \n",
    "        y1[0] = sp.wrap2periodic(y1[0]) \n",
    "         \n",
    "        y0 = y1  \n",
    "        \n",
    "        \n",
    "        \n",
    "        E = sp.compute_dE( y0[0],  y0[1] ) \n",
    "        e_error = np.abs(E )  \n",
    " \n",
    " \n",
    "        if (y1[0] > visible_x[0]) & (e_error < 0.3):              \n",
    "            break \n",
    "            \n",
    "    # compute cost\n",
    "    E = sp.compute_dE( np.array(y)[:,0], np.array(y)[:,1] )\n",
    "\n",
    "    e_error = np.abs(E[-1]) \n",
    "    if e_error < 0.3:\n",
    "        e_error = 0 \n",
    "        \n",
    "        \n",
    "        \n",
    "    U = np.array(u) \n",
    "    \n",
    "    J = np.sum( E**2*Q+ U**2*R)  + 1e8*e_error\n",
    "    t_list = tInt[:(j+1)] \n",
    "    \n",
    "#     data_list.append( [t_list,  y, u, J ] ) \n",
    "    \n",
    "\n",
    "#     return J, t_list, np.array(y), U \n",
    "    return J \n",
    "\n",
    "\n",
    "\n",
    "\n",
    "\n",
    "\n",
    "\n",
    "\n",
    "\n",
    "\n",
    "def eval_sim( x0 ,y0 ) : \n",
    "    t1 = x0[0]\n",
    "    tau = x0[1]  \n",
    "    t2 = x0[2]\n",
    "    tau2 = x0[3]  \n",
    "    sign_tau = x0[4]  \n",
    "    \n",
    "    \n",
    "    # sim parameters \n",
    "    dt = 0.001; \n",
    "    tLast = 5. \n",
    "    n_steps = np.int(tLast/dt) \n",
    "    t = np.array([0,dt])  \n",
    "    tInt = np.arange(0,tLast+dt, dt) ;\n",
    "    \n",
    "    Q = 1.\n",
    "    R = 100. \n",
    "\n",
    "    # IC\n",
    "    ## y0 is given\n",
    "    un = 0\n",
    "    time_sign = 1\n",
    "\n",
    "    # initialize lists \n",
    "    y = []\n",
    "    u = [] \n",
    "    \n",
    "    for j in range(n_steps):\n",
    "        y.append(y0)  \n",
    "        u.append(un)     \n",
    "        t_sim = tInt[j]\n",
    "        if (t_sim> t1) & (t_sim< (t1+np.abs(tau) )) & (np.abs(sign_tau)>0):\n",
    "            un = 3\n",
    "        elif (t_sim> t2) & (t_sim< (t2+np.abs(tau2) )) & (np.abs(sign_tau)>0):\n",
    "            un =  3\n",
    "                                                       \n",
    "        elif (t_sim> t1) & (t_sim< (t1+np.abs(tau) )) & (np.abs(sign_tau)<0 ):\n",
    "            un = -3\n",
    "            \n",
    "        elif (t_sim> t2) & (t_sim< (t2+np.abs(tau2) )) &   (np.abs(sign_tau)<0 ):\n",
    "            un = -3\n",
    "        else: \n",
    "            un = 0 \n",
    "            \n",
    "            \n",
    "        y1 = odeint(  sp.pendulum_ode, y0,  t, args=(un ,time_sign,)  )[1]     # ode solver \n",
    "        y1[0] = sp.wrap2periodic(y1[0]) \n",
    "         \n",
    "        y0 = y1  \n",
    "        \n",
    "        E = sp.compute_dE( y0[0],  y0[1] ) \n",
    "        e_error = np.abs(E )  \n",
    " \n",
    "        if (y1[0] > visible_x[0]) & (e_error < 0.3):           \n",
    "            break \n",
    "            \n",
    "    # compute cost\n",
    "    E = sp.compute_dE( np.array(y)[:,0], np.array(y)[:,1] )\n",
    "\n",
    "    U = np.array(u) \n",
    "    \n",
    "    e_error = np.abs(E[-1]) \n",
    "    if e_error < 0.3:\n",
    "        e_error = 0 \n",
    "        \n",
    "    J = np.sum( E**2*Q+ U**2*R)  + 1e7*e_error\n",
    "    t_list = tInt[:(j+1)] \n",
    "      \n",
    "    return J, t_list, np.array(y), U  \n",
    " "
   ]
  },
  {
   "cell_type": "code",
   "execution_count": 6,
   "metadata": {},
   "outputs": [
    {
     "name": "stdout",
     "output_type": "stream",
     "text": [
      "Optimization terminated successfully.\n",
      "         Current function value: 755449805.308605\n",
      "         Iterations: 60\n",
      "         Function evaluations: 151\n",
      "[ 7.52642998e-01  1.73899445e-04  3.18211724e+00  2.10972752e-01\n",
      " -1.19701201e+00]\n"
     ]
    }
   ],
   "source": [
    " \n",
    "import scipy as sci\n",
    "\n",
    "\n",
    "x0 = np.array([.5, .2,2.5, .2,-1])  \n",
    "y0 = np.array( [-np.pi+0.3,4])\n",
    "\n",
    "res = sci.optimize.fmin( run_sim_opt, x0, args = (y0,) )\n",
    "\n",
    "print(res) \n",
    "# res = minimize(run_sim, x0 )"
   ]
  },
  {
   "cell_type": "code",
   "execution_count": 12,
   "metadata": {},
   "outputs": [
    {
     "name": "stdout",
     "output_type": "stream",
     "text": [
      "t1, tau:  [ 0.49078263 -0.00226455  2.19106577  0.18484682 -1.45820118]    y0:  [-2.84159265  0.5       ]\n",
      "t1, tau:  [ 5.10398930e-01 -2.49875238e-04  1.86749154e+00  1.93004587e-01\n",
      " -1.44133275e+00]    y0:  [-2.84159265  1.05      ]\n",
      "t1, tau:  [ 5.56324762e-01 -1.19490675e-04  2.43176856e+00  1.58165522e-01\n",
      " -1.15460060e+00]    y0:  [-2.84159265  1.6       ]\n",
      "t1, tau:  [ 8.55401478e-01  3.64073109e-04  1.04227305e+00 -1.04841096e-04\n",
      " -1.46929880e+00]    y0:  [-2.84159265  2.15      ]\n",
      "t1, tau:  [ 9.05521970e-01 -3.86556908e-04  8.65183867e-01 -7.83737223e-04\n",
      " -2.30007863e+00]    y0:  [-2.84159265  2.7       ]\n",
      "t1, tau:  [ 1.01659970e+00 -1.26235873e-04  2.25718644e+00 -2.78819997e-01\n",
      " -1.77604413e+00]    y0:  [-2.84159265  3.25      ]\n",
      "t1, tau:  [ 7.58650804e-01 -3.13925458e-04  2.87623429e+00  1.35300877e-01\n",
      " -1.20342680e+00]    y0:  [-2.84159265  3.8       ]\n",
      "t1, tau:  [ 8.10140234e-01  7.79901299e-04  2.78330614e+00  1.24536335e-01\n",
      " -1.03983126e+00]    y0:  [-2.84159265  4.35      ]\n",
      "t1, tau:  [ 1.25716582e+00 -4.50711137e-04  3.14633523e+00 -1.71417029e-01\n",
      " -1.38658616e+00]    y0:  [-2.84159265  4.9       ]\n",
      "t1, tau:  [ 6.43016986e-01  8.46781411e-04  2.17463660e+00  1.14506920e-01\n",
      " -1.25118355e+00]    y0:  [-2.84159265  5.45      ]\n",
      "t1, tau:  [ 9.71157909e-01 -1.60597920e-04  2.02660090e+00 -2.24397735e-02\n",
      " -1.63429975e+00]    y0:  [-2.84159265  6.        ]\n"
     ]
    }
   ],
   "source": [
    "# n_opts = 1\n",
    "# dth_range = np.linspace(3,5,n_opts)\n",
    "\n",
    "# n_opts = 1\n",
    "# dth_range = np.linspace(1,5,n_opts)\n",
    "\n",
    "n_opts = 11\n",
    "dth_range = np.linspace(0.5,6,n_opts)\n",
    "\n",
    "\n",
    "x0 = np.array([.5,  .2, 1.5, 0.2, -1])  \n",
    "# x0 = np.array([.5, 0., 1.5, 0.])  \n",
    "y0 = np.array( [-np.pi+0.3,4])\n",
    "\n",
    "u_list = []\n",
    "\n",
    "for dth in dth_range:\n",
    "\n",
    "    y0 = np.array( [-np.pi+0.3,dth]) \n",
    "#     res = sci.optimize.fmin( run_sim_opt, x0, args = (y0,), ftol=1e-7,)\n",
    "    outp = sci.optimize.minimize( run_sim_opt, x0, args = (y0,), method='Nelder-Mead' )\n",
    "    res = outp.x\n",
    "    print('t1, tau: ',res,  '   y0: ', y0) \n",
    "    u_list.append(res) "
   ]
  },
  {
   "cell_type": "code",
   "execution_count": null,
   "metadata": {},
   "outputs": [],
   "source": [
    "res.x\n"
   ]
  },
  {
   "cell_type": "code",
   "execution_count": 13,
   "metadata": {},
   "outputs": [
    {
     "data": {
      "image/png": "[encoded data removed]",
      "text/plain": [
       "<Figure size 720x504 with 1 Axes>"
      ]
     },
     "metadata": {
      "needs_background": "light"
     },
     "output_type": "display_data"
    }
   ],
   "source": [
    "fig,ax = plt.subplots(1,1,figsize = (10,7) )\n",
    "\n",
    "for j,list1 in enumerate(u_list):\n",
    "     \n",
    "    t1, tau,t2, tau2,sign = list1\n",
    "\n",
    "    tInt = np.arange(0,5,0.001)\n",
    "    u = np.zeros(len(tInt) )\n",
    "    t_bool = (tInt>t1) & (tInt< (t1+ np.abs(tau) ) )\n",
    "    t_bool2 = (tInt>t2) & (tInt< (t2+ np.abs(tau2) ) )\n",
    "    u[t_bool] = 3*np.sign(sign) \n",
    "    u[t_bool2] = 3*np.sign(sign) \n",
    "    \n",
    "    ax .plot(tInt,u+j*4,'k') \n",
    "    ax .plot(tInt,np.zeros_like(u)+j*4,'.k') \n",
    "     "
   ]
  },
  {
   "cell_type": "code",
   "execution_count": null,
   "metadata": {},
   "outputs": [],
   "source": [
    " "
   ]
  },
  {
   "cell_type": "code",
   "execution_count": null,
   "metadata": {},
   "outputs": [],
   "source": []
  },
  {
   "cell_type": "code",
   "execution_count": 15,
   "metadata": {},
   "outputs": [],
   "source": [
    "result_list = []\n",
    "for j,list1 in enumerate(u_list):\n",
    "    \n",
    "    y0 = np.array( [-np.pi+0.3,dth_range[j]] ) \n",
    "    result_list.append( eval_sim( list1, y0 )  ) "
   ]
  },
  {
   "cell_type": "code",
   "execution_count": 16,
   "metadata": {},
   "outputs": [
    {
     "name": "stdout",
     "output_type": "stream",
     "text": [
      "182960275.02738532\n"
     ]
    },
    {
     "data": {
      "image/png": "[encoded data removed]",
      "text/plain": [
       "<Figure size 720x720 with 2 Axes>"
      ]
     },
     "metadata": {
      "needs_background": "light"
     },
     "output_type": "display_data"
    }
   ],
   "source": [
    "\n",
    "# j = 16\n",
    "\n",
    "# list_test = result_list[j]\n",
    "\n",
    "\n",
    "fig, (ax1,ax2)  = plt.subplots(2,1, figsize=(10,10) ) \n",
    "\n",
    "# for j,list_test in enumerate(result_list[3:5]):\n",
    "for j,list_test in enumerate(result_list ):\n",
    "    ax1.scatter( list_test[2] [:,0], list_test[2] [:,1],1,color='k' ) \n",
    "\n",
    "    u_bool = np.abs( list_test[3]  ) > 0.01\n",
    "    ax1.scatter(list_test[2] [u_bool,0], list_test[2] [u_bool,1],1,color='r' ) \n",
    "\n",
    "    ax2.plot( list_test[1] ,list_test[3]+4*j,'k')\n",
    "print(list_test[0] ) \n",
    "# print( 'final energy', sp.compute_dE(y_data[-1,0], y_data[-1,1])) \n"
   ]
  },
  {
   "cell_type": "code",
   "execution_count": null,
   "metadata": {},
   "outputs": [],
   "source": [
    "# for list2 in result_list:"
   ]
  },
  {
   "cell_type": "code",
   "execution_count": null,
   "metadata": {},
   "outputs": [],
   "source": []
  },
  {
   "cell_type": "code",
   "execution_count": null,
   "metadata": {},
   "outputs": [],
   "source": []
  },
  {
   "cell_type": "code",
   "execution_count": null,
   "metadata": {},
   "outputs": [],
   "source": [
    "# y0 = np.array([-2.84159265 , 4.5])\n",
    "\n",
    "# x0 = np.array([    0.96171875, -0.02875     ] ) \n",
    "# x0 = np.array([    0.2, -0.59    ] ) \n",
    "# J,t_list,y,u = eval_sim(x0,y0) \n",
    "# data_list = []\n",
    "# data_list.append( [t_list,  y, u, J ] ) \n",
    "     \n",
    "# list = data_list[0]\n",
    "\n",
    "# y_data = np.array( list[1] ) \n",
    "# u_data = np.array( list[2] )\n",
    "# t_data = np.array( list[0] )\n",
    "# J = list[3]\n",
    "\n",
    "# fig, (ax1,ax2)  = plt.subplots(2,1, figsize=(10,7) )\n",
    " \n",
    "\n",
    "# # for  list in data_list[2]  :  \n",
    "# for list in data_list[0:1]:\n",
    "#     ax1.scatter( y_data[:,0], y_data[:,1],1,color='k' ) \n",
    "    \n",
    "#     u_bool = np.abs( u_data  ) > 0.01\n",
    "#     ax1.scatter(y_data[u_bool,0], y_data[u_bool,1],1,color='r' ) \n",
    "    \n",
    "#     ax2.plot(t_data,u_data)\n",
    "# print(J)\n",
    "\n",
    "# print( 'final energy', sp.compute_dE(y_data[-1,0], y_data[-1,1])) \n"
   ]
  },
  {
   "cell_type": "code",
   "execution_count": null,
   "metadata": {},
   "outputs": [],
   "source": [
    "x0"
   ]
  }
 ],
 "metadata": {
  "kernelspec": {
   "display_name": "Python 3",
   "language": "python",
   "name": "python3"
  },
  "language_info": {
   "codemirror_mode": {
    "name": "ipython",
    "version": 3
   },
   "file_extension": ".py",
   "mimetype": "text/x-python",
   "name": "python",
   "nbconvert_exporter": "python",
   "pygments_lexer": "ipython3",
   "version": "3.7.1"
  }
 },
 "nbformat": 4,
 "nbformat_minor": 2
}
