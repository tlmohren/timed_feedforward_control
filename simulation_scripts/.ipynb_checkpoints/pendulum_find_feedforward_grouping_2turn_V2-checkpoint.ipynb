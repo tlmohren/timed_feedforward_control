{
 "cells": [
  {
   "cell_type": "markdown",
   "metadata": {},
   "source": [
    "#  Find 2-parameter feedforward trajectories for inverted pendulum control\n",
    "\n",
    "### to do:\n",
    "- still unsure whether optimal trajectories are found"
   ]
  },
  {
   "cell_type": "code",
   "execution_count": 37,
   "metadata": {},
   "outputs": [],
   "source": [
    "import numpy as np\n",
    "import matplotlib.pyplot as plt  \n",
    "from scipy.integrate import odeint \n",
    "import dynamicpendulums.phasediagram as phd\n",
    "import dynamicpendulums.singlependulum as sp\n",
    "from matplotlib import animation, rc   \n",
    "from IPython.display import HTML\n",
    " # plot results      \n",
    "import seaborn as sns\n",
    "import matplotlib\n",
    "import scipy as sci\n",
    "import controlpy   \n",
    "from timeit import default_timer as timer"
   ]
  },
  {
   "cell_type": "code",
   "execution_count": 38,
   "metadata": {},
   "outputs": [],
   "source": [
    "# Simulation parameters  \n",
    "vis_limit = 0.3\n",
    "visible_x =  sp.wrap2periodic( np.array([-1,1])*vis_limit + np.pi, 2*np.pi, np.pi  ) \n",
    "\n",
    "dth_LQR_limit = np.array([ 0 , 1.88])"
   ]
  },
  {
   "cell_type": "code",
   "execution_count": 39,
   "metadata": {},
   "outputs": [],
   "source": [
    "def run_sim_opt( x0, y0 ) : \n",
    "    \n",
    "    E_penalty =1e4\n",
    "       \n",
    "    t1 = x0[0]\n",
    "    tau = x0[1]  \n",
    "    \n",
    "    dth_LQR_limit = np.array([ 0 , 1.88])\n",
    "    \n",
    "    # sim parameters \n",
    "    dt = 0.001; \n",
    "    tLast = 2. \n",
    "    n_steps = np.int(tLast/dt) \n",
    "    t = np.array([0,dt])  \n",
    "    tInt = np.arange(0,tLast+dt, dt) ;\n",
    "    \n",
    "    Q = 1.\n",
    "    R = 1000.  \n",
    "    un = 0   \n",
    "    time_sign = 1 \n",
    "    y = []\n",
    "    u = []   # initialize lists \n",
    "    \n",
    "    for j in range(n_steps):\n",
    "        y.append(y0)  \n",
    "        u.append(un)     \n",
    "        t_sim = tInt[j]\n",
    "        if  (t_sim> t1) & (t_sim< (t1+ np.abs(tau) )) :\n",
    "            un = -3\n",
    "        else: \n",
    "            un = 0 \n",
    "        y1 = odeint(  sp.pendulum_ode, y0,  t, args=(un ,time_sign,)  )[1]     # ode solver \n",
    "        y1[0] = sp.wrap2periodic(y1[0]) \n",
    "         \n",
    "        y0 = y1   \n",
    "        if y1[0] > visible_x[0]:              \n",
    "            break  \n",
    "            \n",
    "    \n",
    "    # compute cost\n",
    "    LQR_conv_bool = (y1[0] > dth_LQR_limit[0] ) &   (y1[1] < dth_LQR_limit[1] )\n",
    "    \n",
    "    E = sp.compute_dE( np.array(y)[:,0], np.array(y)[:,1] )\n",
    "    U = np.array(u) \n",
    "    \n",
    "    e_error = np.abs(E[-1])  \n",
    "    LQR_conv_bool = (y1[0] > dth_LQR_limit[0] ) &   (y1[1] < dth_LQR_limit[1] )\n",
    "         \n",
    "    if  LQR_conv_bool:\n",
    "        e_error = 0  \n",
    "    J = np.sum( E**2*Q+ U**2*R)  + E_penalty*e_error\n",
    "     \n",
    "    return J "
   ]
  },
  {
   "cell_type": "code",
   "execution_count": null,
   "metadata": {},
   "outputs": [],
   "source": []
  },
  {
   "cell_type": "code",
   "execution_count": null,
   "metadata": {},
   "outputs": [],
   "source": [
    " "
   ]
  },
  {
   "cell_type": "code",
   "execution_count": null,
   "metadata": {},
   "outputs": [
    {
     "name": "stdout",
     "output_type": "stream",
     "text": [
      "t1, tau:  [ 0.63515625 -0.02875   ]    y0:  [-2.84159265  0.5       ]\n",
      "t1, tau:  [ 0.63515625 -0.02875   ]    y0:  [-2.84159265  0.65      ]\n",
      "t1, tau:  [ 0.63515625 -0.02875   ]    y0:  [-2.84159265  0.8       ]\n",
      "t1, tau:  [ 0.63515625 -0.02875   ]    y0:  [-2.84159265  0.95      ]\n",
      "t1, tau:  [ 0.63515625 -0.02875   ]    y0:  [-2.84159265  1.1       ]\n",
      "t1, tau:  [ 0.63515625 -0.02875   ]    y0:  [-2.84159265  1.25      ]\n",
      "t1, tau:  [ 0.63515625 -0.02875   ]    y0:  [-2.84159265  1.4       ]\n",
      "t1, tau:  [ 0.63515625 -0.02875   ]    y0:  [-2.84159265  1.55      ]\n",
      "t1, tau:  [ 0.63515625 -0.02875   ]    y0:  [-2.84159265  1.7       ]\n",
      "t1, tau:  [ 0.63515625 -0.02875   ]    y0:  [-2.84159265  1.85      ]\n",
      "t1, tau:  [ 0.63515625 -0.02875   ]    y0:  [-2.84159265  2.        ]\n",
      "t1, tau:  [ 0.63515625 -0.02875   ]    y0:  [-2.84159265  2.15      ]\n",
      "t1, tau:  [ 0.63515625 -0.02875   ]    y0:  [-2.84159265  2.3       ]\n",
      "t1, tau:  [ 0.63515625 -0.02875   ]    y0:  [-2.84159265  2.45      ]\n"
     ]
    }
   ],
   "source": [
    " # optimization parameters ---------------\n",
    "opt_tol = 1e-4 \n",
    "opt_method = 'Nelder-Mead'\n",
    "# opt_method = 'Powell'\n",
    "\n",
    "# location parameters --------------\n",
    "n_opts = 31 \n",
    "dth_range = np.linspace(0.5,5.,n_opts)\n",
    " \n",
    "x0 = np.array([.5, 0.2])  \n",
    "y0 = np.array( [-np.pi+0.3,4])\n",
    "\n",
    "u_list = [] \n",
    "start = timer()\n",
    "\n",
    "for dth in dth_range:\n",
    "\n",
    "    y0 = np.array( [-np.pi+0.3,dth]) \n",
    "    outp = sci.optimize.minimize( run_sim_opt, x0, args = (y0,), \n",
    "                                 method= opt_method,  tol=opt_tol ) \n",
    "    res = outp.x\n",
    "    print('t1, tau: ',res,  '   y0: ', y0) \n",
    "    \n",
    "    u_list.append(res) \n",
    "     \n",
    "#     res = sci.optimize.fmin( run_sim_opt, x0, args = (y0,), ftol=1e-5,)\n",
    " \n",
    "print('time elapsed: ', timer() - start) # Time in seconds, e.g. 5.38091952400282"
   ]
  },
  {
   "cell_type": "code",
   "execution_count": null,
   "metadata": {},
   "outputs": [],
   "source": [
    " "
   ]
  },
  {
   "cell_type": "code",
   "execution_count": null,
   "metadata": {},
   "outputs": [],
   "source": [
    "fig,ax = plt.subplots(1,1,figsize = (10,7) )\n",
    "\n",
    "for j,list1 in enumerate(u_list): \n",
    "    t1, tau = list1 \n",
    "    tInt = np.arange(0,2,0.001)\n",
    "    u = np.zeros(len(tInt) )\n",
    "    t_bool = (tInt>t1) & (tInt< (t1+ np.abs(tau) ) )\n",
    "    u[t_bool] = -3   \n",
    "    \n",
    "    ax .plot(tInt,u+j*4,'k')  \n",
    "ax.set_xlim([0,1]) "
   ]
  },
  {
   "cell_type": "code",
   "execution_count": null,
   "metadata": {},
   "outputs": [],
   "source": [
    " "
   ]
  },
  {
   "cell_type": "code",
   "execution_count": null,
   "metadata": {},
   "outputs": [],
   "source": [
    "def eval_sim( x0 ,y0 ) : \n",
    "    t1 = x0[0]\n",
    "    tau = x0[1]  \n",
    "    \n",
    "    # sim parameters \n",
    "    dt = 0.001; \n",
    "    tLast = 2. \n",
    "    n_steps = np.int(tLast/dt) \n",
    "    t = np.array([0,dt])  \n",
    "    tInt = np.arange(0,tLast+dt, dt) ;\n",
    "    \n",
    "    Q = 1.\n",
    "    R = 100.   \n",
    "    un = 0\n",
    "    time_sign = 1 \n",
    "    y = []     # initialize lists  \n",
    "    u = [] \n",
    "    \n",
    "    for j in range(n_steps):\n",
    "        y.append(y0)  \n",
    "        u.append(un)     \n",
    "        t_sim = tInt[j]\n",
    "        if   (t_sim> t1) & (t_sim< (t1+np.abs(tau) )) :\n",
    "            un = -3\n",
    "        else: \n",
    "            un = 0 \n",
    "        y1 = odeint(  sp.pendulum_ode, y0,  t, args=(un ,time_sign,)  )[1]     # ode solver \n",
    "        y1[0] = sp.wrap2periodic(y1[0]) \n",
    "         \n",
    "        y0 = y1  \n",
    "        \n",
    "        if y1[0] > visible_x[0]:              \n",
    "            break \n",
    "            \n",
    "    # compute cost\n",
    "    E = sp.compute_dE( np.array(y)[:,0], np.array(y)[:,1] ) \n",
    "    U = np.array(u)  \n",
    "    e_error = np.abs(E[-1]) \n",
    "    if e_error < 0.3:\n",
    "        e_error = 0  \n",
    "        \n",
    "    J = np.sum( E**2*Q+ U**2*R)  + 1e4*e_error\n",
    "    t_list = tInt[:(j+1)] \n",
    "      \n",
    "    return J, t_list, np.array(y), U   "
   ]
  },
  {
   "cell_type": "code",
   "execution_count": null,
   "metadata": {},
   "outputs": [],
   "source": [
    "result_list = []\n",
    "for j,list1 in enumerate(u_list): \n",
    "    y0 = np.array( [-np.pi+0.3,dth_range[j]] ) \n",
    "    result_list.append( eval_sim( list1, y0 )  ) "
   ]
  },
  {
   "cell_type": "code",
   "execution_count": null,
   "metadata": {},
   "outputs": [],
   "source": [
    "fig, (ax1,ax2)  = plt.subplots(2,1, figsize=(10,10) ) \n",
    "\n",
    "for j,list_test in enumerate(result_list):\n",
    "    ax1.scatter( list_test[2] [:,0], list_test[2] [:,1],1,color='k' ) \n",
    "\n",
    "    u_bool = np.abs( list_test[3]  ) > 0.01\n",
    "    ax1.scatter(list_test[2] [u_bool,0], list_test[2] [u_bool,1],1,color='r' ) \n",
    "\n",
    "    ax2.plot( list_test[1] ,list_test[3]+4*j,'k')\n",
    "    \n",
    "print(list_test[0] )  "
   ]
  },
  {
   "cell_type": "code",
   "execution_count": null,
   "metadata": {},
   "outputs": [],
   "source": [
    " "
   ]
  }
 ],
 "metadata": {
  "kernelspec": {
   "display_name": "Python 3",
   "language": "python",
   "name": "python3"
  },
  "language_info": {
   "codemirror_mode": {
    "name": "ipython",
    "version": 3
   },
   "file_extension": ".py",
   "mimetype": "text/x-python",
   "name": "python",
   "nbconvert_exporter": "python",
   "pygments_lexer": "ipython3",
   "version": "3.7.1"
  }
 },
 "nbformat": 4,
 "nbformat_minor": 2
}
