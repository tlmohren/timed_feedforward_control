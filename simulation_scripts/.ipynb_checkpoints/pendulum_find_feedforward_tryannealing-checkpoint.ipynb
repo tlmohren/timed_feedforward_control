{
 "cells": [
  {
   "cell_type": "markdown",
   "metadata": {},
   "source": [
    "#  Find 2-parameter feedforward trajectories for inverted pendulum control\n",
    "\n",
    "### to do:\n",
    "- still unsure whether optimal trajectories are found"
   ]
  },
  {
   "cell_type": "code",
   "execution_count": 1,
   "metadata": {},
   "outputs": [],
   "source": [
    "import numpy as np\n",
    "import matplotlib.pyplot as plt  \n",
    "from scipy.integrate import odeint \n",
    "import dynamicpendulums.phasediagram as phd\n",
    "import dynamicpendulums.singlependulum as sp\n",
    "from matplotlib import animation, rc   \n",
    "from IPython.display import HTML\n",
    " # plot results      \n",
    "import seaborn as sns\n",
    "import matplotlib\n",
    "import scipy as sci\n",
    "import controlpy   \n",
    "from timeit import default_timer as timer"
   ]
  },
  {
   "cell_type": "code",
   "execution_count": 2,
   "metadata": {},
   "outputs": [],
   "source": [
    "# Simulation parameters  \n",
    "vis_limit = 0.3\n",
    "visible_x =  sp.wrap2periodic( np.array([-1,1])*vis_limit + np.pi, 2*np.pi, np.pi  ) \n",
    "\n",
    "dth_LQR_limit = np.array([ 0 , 1.88])"
   ]
  },
  {
   "cell_type": "code",
   "execution_count": 3,
   "metadata": {},
   "outputs": [],
   "source": [
    "def run_sim_opt( x0, y0 ) : \n",
    "    t1 = x0[0]\n",
    "    tau = x0[1]  \n",
    "    \n",
    "    dth_LQR_limit = np.array([ 0 , 1.88])\n",
    "    \n",
    "    # sim parameters \n",
    "    dt = 0.001; \n",
    "    tLast = 2. \n",
    "    n_steps = np.int(tLast/dt) \n",
    "    t = np.array([0,dt])  \n",
    "    tInt = np.arange(0,tLast+dt, dt) ;\n",
    "    \n",
    "    Q = 1.\n",
    "    R = 100.  \n",
    "    un = 0   \n",
    "    time_sign = 1 \n",
    "    y = []\n",
    "    u = []   # initialize lists \n",
    "    \n",
    "    for j in range(n_steps):\n",
    "        y.append(y0)  \n",
    "        u.append(un)     \n",
    "        t_sim = tInt[j]\n",
    "        if  (t_sim> t1) & (t_sim< (t1+ np.abs(tau) )) :\n",
    "            un = -3\n",
    "        else: \n",
    "            un = 0 \n",
    "        y1 = odeint(  sp.pendulum_ode, y0,  t, args=(un ,time_sign,)  )[1]     # ode solver \n",
    "        y1[0] = sp.wrap2periodic(y1[0]) \n",
    "         \n",
    "        y0 = y1   \n",
    "        if y1[0] > visible_x[0]:              \n",
    "            break  \n",
    "            \n",
    "    \n",
    "    # compute cost\n",
    "    LQR_conv_bool = (y1[0] > dth_LQR_limit[0] ) &   (y1[1] < dth_LQR_limit[1] )\n",
    "    \n",
    "    E = sp.compute_dE( np.array(y)[:,0], np.array(y)[:,1] )\n",
    "    U = np.array(u) \n",
    "    \n",
    "    e_error = np.abs(E[-1])  \n",
    "    LQR_conv_bool = (y1[0] > dth_LQR_limit[0] ) &   (y1[1] < dth_LQR_limit[1] )\n",
    "         \n",
    "    if  LQR_conv_bool:\n",
    "        e_error = 0  \n",
    "    J = np.sum( E**2*Q+ U**2*R)  + 1e5*e_error \n",
    "     \n",
    "    return J "
   ]
  },
  {
   "cell_type": "code",
   "execution_count": null,
   "metadata": {},
   "outputs": [],
   "source": []
  },
  {
   "cell_type": "code",
   "execution_count": null,
   "metadata": {},
   "outputs": [],
   "source": [
    " "
   ]
  },
  {
   "cell_type": "code",
   "execution_count": 4,
   "metadata": {},
   "outputs": [
    {
     "name": "stdout",
     "output_type": "stream",
     "text": [
      "t1, tau:  [0.33419609 0.31031975]    y0:  [-2.84159265  4.        ]  J:  306021.68490590714\n",
      "time elapsed:  8.443210378\n"
     ]
    }
   ],
   "source": [
    " # optimization parameters ---------------\n",
    "opt_tol = 1e-4 \n",
    "opt_method = 'Nelder-Mead'\n",
    "# opt_method = 'Powell'\n",
    "\n",
    "# location parameters --------------\n",
    "n_opts = 31 \n",
    "dth_range = np.linspace(0.5,5.,n_opts)\n",
    " \n",
    "x0 = np.array([.75, 0.2])  \n",
    "y0 = np.array( [-np.pi+0.3,4])\n",
    "\n",
    "u_list = [] \n",
    "start = timer()\n",
    " \n",
    "outp = sci.optimize.minimize( run_sim_opt, x0, args = (y0,), \n",
    "                             method= opt_method,  tol=opt_tol ) \n",
    "res = outp.x\n",
    "\n",
    "\n",
    "print('t1, tau: ',res,  '   y0: ', y0, ' J: ', outp.fun) \n",
    "\n",
    "u_list.append(res) \n",
    "\n",
    "#     res = sci.optimize.fmin( run_sim_opt, x0, args = (y0,), ftol=1e-5,)\n",
    " \n",
    "print('time elapsed: ', timer() - start) # Time in seconds, e.g. 5.38091952400282"
   ]
  },
  {
   "cell_type": "code",
   "execution_count": null,
   "metadata": {},
   "outputs": [],
   "source": []
  },
  {
   "cell_type": "code",
   "execution_count": null,
   "metadata": {},
   "outputs": [],
   "source": []
  },
  {
   "cell_type": "markdown",
   "metadata": {},
   "source": [
    "# even with basinhopping, sometimes converges on local minimum\n",
    "\n",
    "what is the reason? \n",
    "Or was I changing the cost function in the meantime? "
   ]
  },
  {
   "cell_type": "code",
   "execution_count": 5,
   "metadata": {},
   "outputs": [
    {
     "name": "stdout",
     "output_type": "stream",
     "text": [
      "global minimum: x = [0.3141, 0.3103], f(x0) = 305036.3348\n",
      "time elapsed:  95.92640209197998\n"
     ]
    },
    {
     "data": {
      "text/plain": [
       "                        fun: 305036.3348437477\n",
       " lowest_optimization_result:  final_simplex: (array([[0.31408895, 0.31027389],\n",
       "       [0.31411157, 0.31026317],\n",
       "       [0.31417402, 0.31026282]]), array([305036.33484375, 305036.33484375, 305036.33484375]))\n",
       "           fun: 305036.3348437477\n",
       "       message: 'Optimization terminated successfully.'\n",
       "          nfev: 84\n",
       "           nit: 39\n",
       "        status: 0\n",
       "       success: True\n",
       "             x: array([0.31408895, 0.31027389])\n",
       "                    message: ['requested number of basinhopping iterations completed successfully']\n",
       "      minimization_failures: 0\n",
       "                       nfev: 797\n",
       "                        nit: 10\n",
       "                          x: array([0.31408895, 0.31027389])"
      ]
     },
     "execution_count": 5,
     "metadata": {},
     "output_type": "execute_result"
    }
   ],
   "source": [
    "import time\n",
    "\n",
    "minimizer_kwargs = {\"method\":opt_method, \"jac\":False, \"args\": (y0,)}\n",
    "x0 = np.array([.6, 0.2])  \n",
    "y0 = np.array( [-np.pi+0.3,4])\n",
    "\n",
    "t_start = time.time()\n",
    "ret = sci.optimize.basinhopping( run_sim_opt, x0, minimizer_kwargs=minimizer_kwargs,\n",
    "                   niter=10)\n",
    "print(\"global minimum: x = [%.4f, %.4f], f(x0) = %.4f\" % (ret.x[0],\n",
    "                                                          ret.x[1],\n",
    "                                                          ret.fun))\n",
    "print( 'time elapsed: ', time.time()-t_start)\n",
    "ret\n"
   ]
  },
  {
   "cell_type": "code",
   "execution_count": 6,
   "metadata": {},
   "outputs": [
    {
     "name": "stdout",
     "output_type": "stream",
     "text": [
      "time elapsed:  113.34035325050354\n"
     ]
    },
    {
     "data": {
      "text/plain": [
       "     fun: 305084.4682442603\n",
       " message: 'Optimization terminated successfully.'\n",
       "    nfev: 843\n",
       "     nit: 27\n",
       " success: True\n",
       "       x: array([0.3156444 , 0.31001963])"
      ]
     },
     "execution_count": 6,
     "metadata": {},
     "output_type": "execute_result"
    }
   ],
   "source": [
    "# rranges = (slice(0., 1., 0.1), slice(0., 1., 0.1)) \n",
    "\n",
    "\n",
    "bounds = [(0,2. ), (0,2.)]\n",
    "\n",
    "t_start = time.time()\n",
    "result = sci.optimize.differential_evolution(run_sim_opt, bounds, args = (y0,), \n",
    "                                            strategy = 'rand1bin')\n",
    "print( 'time elapsed: ', time.time()-t_start)\n",
    "result"
   ]
  },
  {
   "cell_type": "markdown",
   "metadata": {},
   "source": [
    "# alternatively, initiate general minimizer with several I.C.s? "
   ]
  },
  {
   "cell_type": "code",
   "execution_count": 7,
   "metadata": {},
   "outputs": [
    {
     "name": "stdout",
     "output_type": "stream",
     "text": [
      "[0.64414354 0.38074849]\n",
      "t1, tau:  [0.33419609 0.31031975]    y0:  [-2.84159265  4.        ]  J:  308415.46152197354\n",
      "[0.66304791 0.16365073]\n",
      "t1, tau:  [0.33419609 0.31031975]    y0:  [-2.84159265  4.        ]  J:  306482.43419064255\n",
      "[0.96260781 0.34666184]\n",
      "t1, tau:  [0.33419609 0.31031975]    y0:  [-2.84159265  4.        ]  J:  305036.3348437477\n",
      "[0.99175099 0.2350579 ]\n",
      "t1, tau:  [0.33419609 0.31031975]    y0:  [-2.84159265  4.        ]  J:  811647.6248592087\n",
      "[0.58569427 0.4066901 ]\n",
      "t1, tau:  [0.33419609 0.31031975]    y0:  [-2.84159265  4.        ]  J:  305036.3348437477\n",
      "time elapsed:  43.87645172400002\n"
     ]
    }
   ],
   "source": [
    " # optimization parameters ---------------\n",
    "opt_tol = 1e-4 \n",
    "opt_method = 'Nelder-Mead'\n",
    "# opt_method = 'Powell'\n",
    "\n",
    "# location parameters --------------\n",
    "n_opts = 31 \n",
    "dth_range = np.linspace(0.5,5.,n_opts)\n",
    " \n",
    "y0 = np.array( [-np.pi+0.3,4])\n",
    "\n",
    "u_list = [] \n",
    "start = timer()\n",
    "\n",
    "dth = dth_range[15]  \n",
    "\n",
    "np.random.seed( 30 )\n",
    "n_IC = 5 \n",
    "\n",
    "for i in range(n_IC):\n",
    "    x0 = np.random.rand(2)\n",
    "#     x0 = np.array([.5, 0.2])  \n",
    "    outp = sci.optimize.minimize( run_sim_opt, x0, args = (y0,), \n",
    "                                 method= opt_method,  tol=opt_tol ) \n",
    "    \n",
    "# res = outp.x\n",
    "    print(x0) \n",
    "    print('t1, tau: ',res,  '   y0: ', y0, ' J: ', outp.fun) \n",
    "\n",
    "# u_list.append(res) \n",
    "\n",
    "#     res = sci.optimize.fmin( run_sim_opt, x0, args = (y0,), ftol=1e-5,)\n",
    " \n",
    "print('time elapsed: ', timer() - start) # Time in seconds, e.g. 5.38091952400282"
   ]
  },
  {
   "cell_type": "code",
   "execution_count": 8,
   "metadata": {},
   "outputs": [
    {
     "data": {
      "text/plain": [
       "array([0.13623432, 0.54413629])"
      ]
     },
     "execution_count": 8,
     "metadata": {},
     "output_type": "execute_result"
    }
   ],
   "source": [
    "np.random.rand(2)"
   ]
  }
 ],
 "metadata": {
  "kernelspec": {
   "display_name": "Python 3",
   "language": "python",
   "name": "python3"
  },
  "language_info": {
   "codemirror_mode": {
    "name": "ipython",
    "version": 3
   },
   "file_extension": ".py",
   "mimetype": "text/x-python",
   "name": "python",
   "nbconvert_exporter": "python",
   "pygments_lexer": "ipython3",
   "version": "3.7.1"
  }
 },
 "nbformat": 4,
 "nbformat_minor": 2
}
