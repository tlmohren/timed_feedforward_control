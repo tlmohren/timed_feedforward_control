{
 "cells": [
  {
   "cell_type": "code",
   "execution_count": 1,
   "metadata": {},
   "outputs": [],
   "source": [
    "import numpy as np\n",
    "import matplotlib.pyplot as plt  \n",
    "from scipy.integrate import odeint \n",
    "import dynamicpendulums.phasediagram as phd\n",
    "import dynamicpendulums.singlependulum as sp\n",
    "from matplotlib import animation, rc   \n",
    "from IPython.display import HTML\n",
    " # plot results      \n",
    "import seaborn as sns\n",
    "import matplotlib\n",
    "\n",
    "import controlpy   \n",
    "\n",
    "import pickle "
   ]
  },
  {
   "cell_type": "code",
   "execution_count": 2,
   "metadata": {},
   "outputs": [
    {
     "data": {
      "text/plain": [
       "[1.8499999999999999, 2.6, 3.1999999999999997, 3.65, 4.1, 10.0]"
      ]
     },
     "execution_count": 2,
     "metadata": {},
     "output_type": "execute_result"
    }
   ],
   "source": [
    "\n",
    "with open('u_grouping.pkl', 'rb') as f:\n",
    "    mynewlist = pickle.load(f)\n",
    "\n",
    "u_param, dth_start, dth_end = mynewlist\n",
    "# u_param[3][0]\n",
    "# dth_start[0] = 0\n",
    "\n",
    "u_param\n",
    "dth_start\n",
    "\n",
    "dth_end[-1] = 10. \n",
    "\n",
    "dth_end"
   ]
  },
  {
   "cell_type": "code",
   "execution_count": 3,
   "metadata": {},
   "outputs": [
    {
     "name": "stdout",
     "output_type": "stream",
     "text": [
      "Number of time steps: 4000\n"
     ]
    }
   ],
   "source": [
    "# Simulation parameters \n",
    "\n",
    "LQR_limit = 0.3\n",
    "visible_x =  sp.wrap2periodic( np.array([-1,1])*LQR_limit + np.pi, 2*np.pi, np.pi  ) \n",
    "\n",
    "\n",
    "dt = 0.001; \n",
    "tLast = 4\n",
    "tInt = np.arange(0,tLast+dt, dt) ;\n",
    "n_steps = np.int(tLast/dt)\n",
    "print('Number of time steps: '+ str(n_steps) )\n",
    "t = np.array([0,dt]) \n",
    "time_sign = 1\n",
    " "
   ]
  },
  {
   "cell_type": "code",
   "execution_count": 4,
   "metadata": {},
   "outputs": [],
   "source": [
    "A = np.matrix([[0.,1.],[-10.,0. ]])\n",
    "B = np.matrix([[0.],[1.]])\n",
    "Q = np.matrix([[11., 0.],[0.,1.]])*1e4\n",
    "R = np.matrix([1.]) \n",
    " \n",
    "Ak = np.matrix([[1.,dt],[-10.*dt,1. ]])\n",
    "Bk = np.matrix([[0.],[dt]]) \n",
    "\n",
    "K,__,__ = controlpy.synthesis.controller_lqr(A,B,Q,R) \n",
    "Kk,__,__ = controlpy.synthesis.controller_lqr_discrete_time(Ak,Bk,Q,R) "
   ]
  },
  {
   "cell_type": "code",
   "execution_count": null,
   "metadata": {},
   "outputs": [],
   "source": [
    " \n",
    "\n",
    " "
   ]
  },
  {
   "cell_type": "code",
   "execution_count": 5,
   "metadata": {},
   "outputs": [
    {
     "name": "stdout",
     "output_type": "stream",
     "text": [
      "0.5552264956006325 0 0\n",
      "1.0290784937116655 0 0\n",
      "1.5203700368307003 0 0\n",
      "2.0145375177390132 0.5529742223094245 0.08091015134006777\n",
      "2.5116298451540513 0.5529742223094245 0.08091015134006777\n",
      "3.0116680858247187 0.4303650856018064 0.16853584289550774\n",
      "3.5087294521467465 0.3733734011650076 0.24295342206954912\n",
      "4.008750959268362 0.28028912544250373 0.3326135349273678\n",
      "4.508772459129831 0.2301544189453109 0.43272918701171803\n",
      "5.0058147971799345 0.2301544189453109 0.43272918701171803\n",
      "2.6790043652724025 0.4303650856018064 0.16853584289550774\n"
     ]
    }
   ],
   "source": [
    "# dth_array = np.linspace(0,8,5) \n",
    "# th = -np.pi + 0.1\n",
    "\n",
    "# dth_array = np.linspace(0 ,3,5)  \n",
    "dth_array = np.linspace(0 ,5,11)  \n",
    "\n",
    "th = np.pi + 0.29\n",
    " \n",
    "\n",
    "data_list = []\n",
    "for dth in dth_array:\n",
    "    y0 = np.array([th,dth]) \n",
    "    un = 0.\n",
    "    y = []\n",
    "    u = []\n",
    "    c_type = []\n",
    "    u_int = 0\n",
    "    u_ff = False\n",
    "    e_start = 0\n",
    "    control_type = 'none'\n",
    "    for j in range(n_steps):\n",
    "        y.append(y0)  \n",
    "        u.append(un)  \n",
    "        c_type.append(control_type) \n",
    " \n",
    "        y1 = odeint(  sp.pendulum_ode, y0,  t, args=(un ,time_sign,)  )[1]     # ode solver  \n",
    "        y1[0] = sp.wrap2periodic(y1[0],2*np.pi,np.pi)\n",
    "        \n",
    "        \n",
    "        \n",
    "        # in LQR \n",
    "        e = sp.compute_dE(y1[0],y1[1]) \n",
    "        \n",
    "        LQR_inx = ((y0[0]> visible_x[0]) & (y0[0] < visible_x[1])  )  \n",
    "        \n",
    "        point1 = np.array([np.pi-0.3, 1.88])\n",
    "        point2 = np.array([np.pi+0.3, 0])\n",
    "\n",
    "        slope = (point2[1]-point1[1])/(point2[0]-point1[0])\n",
    "        new_point = y1\n",
    "\n",
    "        maxy_in = point1[1]+(new_point[0]-point1[0])*slope\n",
    "        LQR_iny =  new_point[1] < maxy_in \n",
    "        \n",
    "        LQR_bool = LQR_inx & LQR_iny\n",
    "\n",
    "\n",
    "#         pass_trigger_bool = (   ((y1[0] > visible_x[1] ) & (y0[0]< visible_x[1] ) ) | \n",
    "#                                   ((y1[0] >- visible_x[1] ) & (y0[0]< -visible_x[1] ) )    )\n",
    "        pass_trigger_bool = (   ((y1[0] > visible_x[1] ) & (y0[0]< visible_x[1] ) )  & (y1[1]>0)   )\n",
    "         \n",
    "        un = 0.\n",
    "        control_type = 'none'\n",
    "        \n",
    "        if LQR_bool: \n",
    "            y_f = np.array([np.pi,0])\n",
    "            un = np.clip( np.dot( K,(y_f -y1) ) ,-3,3)[0,0]  \n",
    "            control_type = 'LQR'\n",
    "            \n",
    "        if pass_trigger_bool:\n",
    "             \n",
    "            u_ff = True  \n",
    "            dth_trigger = y1[1] \n",
    "            \n",
    "#             u_param, dth_start, dth_end = mynewlist\n",
    "            u_class = np.where( (dth_trigger > dth_start) & (dth_trigger < dth_end) )[0][0]\n",
    "    \n",
    "            t1 = u_param[u_class][0]\n",
    "            tau = u_param[u_class][1]\n",
    "            t_trigger = 0 \n",
    "            print(dth_trigger, t1,tau)\n",
    "            \n",
    "        if u_ff:\n",
    "            if (t_trigger > t1) & (t_trigger < (t1+tau) ):\n",
    "                un = -3  \n",
    "            t_trigger = t_trigger + dt\n",
    "            \n",
    "            \n",
    "            if t_trigger  >= t1+tau : \n",
    "                u_ff = False \n",
    "        y0 = y1  \n",
    "        \n",
    "#         print(j,control_type) \n",
    "\n",
    "    # store data\n",
    "    data_list.append( [y0, y, u,c_type] ) \n",
    "    \n",
    "    \n",
    "\n",
    "# for....\n",
    "    \n",
    "    \n",
    "    # if in visible region, try LQR\n",
    "    # if passes sensory region: trigger feedforward u "
   ]
  },
  {
   "cell_type": "code",
   "execution_count": 6,
   "metadata": {},
   "outputs": [
    {
     "data": {
      "text/plain": [
       "2"
      ]
     },
     "execution_count": 6,
     "metadata": {},
     "output_type": "execute_result"
    }
   ],
   "source": [
    "np.where( (dth_trigger > dth_start) & (dth_trigger < dth_end) )[0][0]\n",
    "# dth_trigger "
   ]
  },
  {
   "cell_type": "code",
   "execution_count": 7,
   "metadata": {},
   "outputs": [
    {
     "name": "stdout",
     "output_type": "stream",
     "text": [
      "File loaded: data\\controlU_lookup_Q1_R100.npy\n"
     ]
    },
    {
     "data": {
      "text/plain": [
       "(-5, 5)"
      ]
     },
     "execution_count": 7,
     "metadata": {},
     "output_type": "execute_result"
    },
    {
     "data": {
      "image/png": "[encoded data removed]",
      "text/plain": [
       "<Figure size 720x504 with 2 Axes>"
      ]
     },
     "metadata": {
      "needs_background": "light"
     },
     "output_type": "display_data"
    }
   ],
   "source": [
    "file_to_load = 'data\\controlU_lookup_Q1_R100.npy'\n",
    "U_bang,X,Y = np.load( file_to_load )  \n",
    "print('File loaded: ' + file_to_load)\n",
    "       \n",
    "    \n",
    "col = sns.color_palette(\"hls\", 5) \n",
    "colorsList = [col[2],np.array([255,255,200])/255,col[3]] \n",
    " \n",
    "font = { 'serif': ['computer modern roman']}\n",
    "plt.rc('font',**font)  \n",
    "contr = matplotlib.colors.ListedColormap(colorsList)\n",
    "\n",
    "# fig = plt.figure(figsize= (7,8))  \n",
    "# ax1 = fig.add_subplot(1, 1, 1 )\n",
    "\n",
    "fig, (ax1,ax2) = plt.subplots(1,2, figsize=(10,7) )\n",
    "\n",
    "# ax1.pcolor(X,Y,U_bang, cmap= contr )  \n",
    "\n",
    "# plot_list = int( np.arange(0,2,1) ) \n",
    "\n",
    "# for  list in data_list[2]  :  \n",
    "for list in data_list :\n",
    "    ax1.scatter( np.array(list[1]) [:,0], np.array(list[1])[:,1],1,color='k' ) \n",
    "    \n",
    "    u_bool = np.abs( np.array(list[2])  ) > 0.01\n",
    "    ax1.scatter( np.array(list[1]) [u_bool,0], np.array(list[1])[u_bool,1],1,color='r' ) \n",
    "    \n",
    "    \n",
    "    ax2.scatter( np.array(list[1]) [:,0], np.array(list[1])[:,1],1,color='k' ) \n",
    "    ax2.scatter( np.array(list[1]) [u_bool,0], np.array(list[1])[u_bool,1],1,color='r' ) \n",
    "    \n",
    "phd.homoclinic_plot(ax1) \n",
    "phd.homoclinic_plot(ax2)\n",
    "\n",
    "\n",
    "ax1.set_xlim( np.array([-1,1])*np.pi +np.pi )\n",
    "ax1.set_ylim( np.array([-1,1])*8 )\n",
    "\n",
    "ax2.set_xlim( np.array([-1,1])*1 +np.pi )\n",
    "ax2.set_ylim( np.array([-1,1])*5 )\n",
    "\n",
    "\n",
    "# fig, ax = plt.subplots(1,1, figsize=(10,7) )\n",
    "# plt.plot(data_list[1][])"
   ]
  },
  {
   "cell_type": "code",
   "execution_count": 10,
   "metadata": {},
   "outputs": [
    {
     "data": {
      "text/plain": [
       "(0.0, 6.283185307179586)"
      ]
     },
     "execution_count": 10,
     "metadata": {},
     "output_type": "execute_result"
    },
    {
     "data": {
      "image/png": "[encoded data removed]",
      "text/plain": [
       "<Figure size 864x360 with 2 Axes>"
      ]
     },
     "metadata": {
      "needs_background": "light"
     },
     "output_type": "display_data"
    }
   ],
   "source": [
    " \n",
    "    \n",
    "col = sns.color_palette(\"hls\", 5) \n",
    "colorsList = [col[2],np.array([255,255,200])/255,col[3]] \n",
    " \n",
    "font = { 'serif': ['computer modern roman']}\n",
    "plt.rc('font',**font)  \n",
    "contr = matplotlib.colors.ListedColormap(colorsList)\n",
    " \n",
    "\n",
    "fig, (ax1,ax2) = plt.subplots(1,2, figsize=(12,5) )\n",
    " \n",
    "\n",
    "# for  list in data_list[2]  :  \n",
    "list  = data_list[10]\n",
    "\n",
    "\n",
    "ax1.scatter( np.array(list[1]) [:,0], np.array(list[1])[:,1],1,color='k' ) \n",
    "\n",
    "u_bool = np.abs( np.array(list[2])  ) > 0.01\n",
    "ax1.scatter( np.array(list[1]) [u_bool,0], np.array(list[1])[u_bool,1],10,color='r' ) \n",
    "\n",
    "\n",
    "ax2.scatter( np.array(list[1]) [:,0], np.array(list[1])[:,1],1,color='k' ) \n",
    "ax2.scatter( np.array(list[1]) [u_bool,0], np.array(list[1])[u_bool,1],10,color='r' ) \n",
    "    \n",
    "phd.homoclinic_plot(ax1) \n",
    "phd.homoclinic_plot(ax2)\n",
    "ax2.set_xlim( np.array([-1,1])*0.6 +np.pi )\n",
    "ax2.set_ylim( np.array([-1,1])*1.3 )\n",
    "\n",
    "\n",
    "# nice_orange = np.array([253,187,132]) /255\n",
    "nice_blue = np.array( [236,231,242] ) /255\n",
    "# nice_orange = np.array([1,1,1])*0.\n",
    "nice_col = nice_blue\n",
    "w_2 = 0.6\n",
    "L = 16\n",
    "rectangle1 = plt.Rectangle( (-w_2/2 + np.pi ,L/2), w_2, -L, \n",
    "                            zorder=-1,facecolor=nice_col) \n",
    "ax1.add_patch(rectangle1)\n",
    "\n",
    "rectangle2 = plt.Rectangle( (-w_2/2 + np.pi ,L/2), w_2, -L, \n",
    "                            zorder=-1,facecolor=nice_col) \n",
    "ax2.add_patch(rectangle2)\n",
    "\n",
    "ax1.set_xlim( np.array([-1,1])*np.pi+np.pi )\n",
    " "
   ]
  },
  {
   "cell_type": "code",
   "execution_count": null,
   "metadata": {},
   "outputs": [],
   "source": []
  },
  {
   "cell_type": "code",
   "execution_count": 9,
   "metadata": {},
   "outputs": [
    {
     "ename": "NameError",
     "evalue": "name 'u3' is not defined",
     "output_type": "error",
     "traceback": [
      "\u001b[1;31m---------------------------------------------------------------------------\u001b[0m",
      "\u001b[1;31mNameError\u001b[0m                                 Traceback (most recent call last)",
      "\u001b[1;32m<ipython-input-9-eea8bc913fa8>\u001b[0m in \u001b[0;36m<module>\u001b[1;34m\u001b[0m\n\u001b[0;32m      1\u001b[0m \u001b[0mfig\u001b[0m\u001b[1;33m,\u001b[0m\u001b[1;33m(\u001b[0m\u001b[0max1\u001b[0m\u001b[1;33m,\u001b[0m\u001b[0max2\u001b[0m\u001b[1;33m,\u001b[0m\u001b[0max3\u001b[0m\u001b[1;33m)\u001b[0m \u001b[1;33m=\u001b[0m \u001b[0mplt\u001b[0m\u001b[1;33m.\u001b[0m\u001b[0msubplots\u001b[0m\u001b[1;33m(\u001b[0m\u001b[1;36m3\u001b[0m\u001b[1;33m,\u001b[0m\u001b[1;36m1\u001b[0m\u001b[1;33m,\u001b[0m\u001b[0mfigsize\u001b[0m\u001b[1;33m=\u001b[0m\u001b[1;33m(\u001b[0m\u001b[1;36m10\u001b[0m\u001b[1;33m,\u001b[0m\u001b[1;36m6\u001b[0m\u001b[1;33m)\u001b[0m \u001b[1;33m)\u001b[0m\u001b[1;33m\u001b[0m\u001b[1;33m\u001b[0m\u001b[0m\n\u001b[0;32m      2\u001b[0m \u001b[1;33m\u001b[0m\u001b[0m\n\u001b[1;32m----> 3\u001b[1;33m \u001b[0max1\u001b[0m\u001b[1;33m.\u001b[0m\u001b[0mplot\u001b[0m\u001b[1;33m(\u001b[0m\u001b[0mtInt\u001b[0m\u001b[1;33m[\u001b[0m\u001b[1;33m:\u001b[0m\u001b[1;36m1000\u001b[0m\u001b[1;33m]\u001b[0m\u001b[1;33m,\u001b[0m \u001b[0mu3\u001b[0m\u001b[1;33m,\u001b[0m\u001b[1;34m'k'\u001b[0m\u001b[1;33m)\u001b[0m\u001b[1;33m\u001b[0m\u001b[1;33m\u001b[0m\u001b[0m\n\u001b[0m\u001b[0;32m      4\u001b[0m \u001b[0max2\u001b[0m\u001b[1;33m.\u001b[0m\u001b[0mplot\u001b[0m\u001b[1;33m(\u001b[0m\u001b[0mtInt\u001b[0m\u001b[1;33m[\u001b[0m\u001b[1;33m:\u001b[0m\u001b[1;36m1000\u001b[0m\u001b[1;33m]\u001b[0m\u001b[1;33m,\u001b[0m \u001b[0mu1\u001b[0m\u001b[1;33m,\u001b[0m\u001b[1;34m'k'\u001b[0m\u001b[1;33m)\u001b[0m\u001b[1;33m\u001b[0m\u001b[1;33m\u001b[0m\u001b[0m\n\u001b[0;32m      5\u001b[0m \u001b[0max3\u001b[0m\u001b[1;33m.\u001b[0m\u001b[0mplot\u001b[0m\u001b[1;33m(\u001b[0m\u001b[0mtInt\u001b[0m\u001b[1;33m[\u001b[0m\u001b[1;33m:\u001b[0m\u001b[1;36m1000\u001b[0m\u001b[1;33m]\u001b[0m\u001b[1;33m,\u001b[0m \u001b[0mu2\u001b[0m\u001b[1;33m,\u001b[0m\u001b[1;34m'k'\u001b[0m\u001b[1;33m)\u001b[0m\u001b[1;33m\u001b[0m\u001b[1;33m\u001b[0m\u001b[0m\n",
      "\u001b[1;31mNameError\u001b[0m: name 'u3' is not defined"
     ]
    },
    {
     "data": {
      "image/png": "[encoded data removed]",
      "text/plain": [
       "<Figure size 720x432 with 3 Axes>"
      ]
     },
     "metadata": {
      "needs_background": "light"
     },
     "output_type": "display_data"
    }
   ],
   "source": [
    "fig,(ax1,ax2,ax3) = plt.subplots(3,1,figsize=(10,6) ) \n",
    "\n",
    "ax1.plot(tInt[:1000], u3,'k') \n",
    "ax2.plot(tInt[:1000], u1,'k') \n",
    "ax3.plot(tInt[:1000], u2,'k') \n",
    "ax3.set_xlabel('Time (s)') \n",
    "ax1.set_ylabel('U1',rotation = 0) \n",
    "ax2.set_ylabel('U2',rotation = 0) \n",
    "ax3.set_ylabel('U3',rotation = 0) \n",
    "\n",
    "axs = [ax1,ax2,ax3]\n",
    "\n",
    "for ax in axs:\n",
    "    ax.set_xlim([0,1]) \n",
    "    ax.set_ylim([-4,4]) \n",
    "    ax.plot([0,1],[0,0],'--k')\n"
   ]
  },
  {
   "cell_type": "code",
   "execution_count": null,
   "metadata": {},
   "outputs": [],
   "source": [
    "\n",
    "nice_blue = np.array( [236,231,242] ) /255 \n",
    "    \n",
    "col = sns.color_palette(\"hls\", 5) \n",
    "colorsList = [col[2],np.array([255,255,200])/255,col[3]] \n",
    " \n",
    "font = { 'serif': ['computer modern roman']}\n",
    "plt.rc('font',**font)  \n",
    "contr = matplotlib.colors.ListedColormap(colorsList)\n",
    " \n",
    "fig = plt.figure( figsize = (15,5) ) \n",
    "# fig, (ax1,ax2,ax) = plt.subplots(1,2, figsize=(12,5) )\n",
    "\n",
    "grid = plt.GridSpec(2, 3, wspace=0.4, hspace=0.3)\n",
    "ax1 = plt.subplot(grid[:2, 0])\n",
    "ax2 = plt.subplot(grid[:2, 1])\n",
    "ax3 = plt.subplot(grid[0, 2])\n",
    "ax4 = plt.subplot(grid[1, 2]) \n",
    "\n",
    "ax1.scatter( np.array(list[1]) [:,0], np.array(list[1])[:,1],1,color='k' ) \n",
    "\n",
    "u_bool = np.abs( np.array(list[2])  ) > 0.01\n",
    "ax1.scatter( np.array(list[1]) [u_bool,0], np.array(list[1])[u_bool,1],10,color='r' ) \n",
    "phd.homoclinic_plot(ax1) \n",
    "\n",
    "\n",
    "ax2.scatter( np.array(list[1]) [:,0], np.array(list[1])[:,1],1,color='k' ) \n",
    "ax2.scatter( np.array(list[1]) [u_bool,0], np.array(list[1])[u_bool,1],10,color='r' ) \n",
    "phd.homoclinic_plot(ax2)\n",
    "ax2.set_xlim( np.array([-1,1])*0.6 +np.pi )\n",
    "ax2.set_ylim( np.array([-1,1])*1.3 )\n",
    "\n",
    "\n",
    "\n",
    "ax3.plot( tInt[2:], np.array(list[2]) ,'r') \n",
    "ax3.fill_between( tInt[2:], 0, np.array(list[2]) ,color='r'  ) \n",
    "ax3.set_ylabel('Control U') \n",
    "\n",
    "\n",
    "bool_visible =    ((np.array( list[1] ) [:,0] < visible_x[1] ) & (np.array( list[1] )[:,0]> visible_x[0] ) ) \n",
    "ax4.plot(tInt[2:],bool_visible,'k') \n",
    "\n",
    "ax4.fill_between(tInt[2:], 0, bool_visible,color=nice_blue)\n",
    "\n",
    "\n",
    "ax4.set_ylabel('In View ') \n",
    "ax4.yaxis.set_ticks([0,1])\n",
    "ax4.yaxis.set_ticklabels(['no','yes'])\n",
    "\n",
    "ax4.set_xlabel('Time (s)')\n",
    "\n",
    "# nice_orange = np.array([253,187,132]) /255\n",
    "nice_blue = np.array( [236,231,242] ) /255\n",
    "# nice_orange = np.array([1,1,1])*0.\n",
    "nice_col = nice_blue\n",
    "w_2 = (np.pi-visible_x[0] )*2\n",
    "L = 16\n",
    "rectangle1 = plt.Rectangle( (-w_2/2 + np.pi ,L/2), w_2, -L, \n",
    "                            zorder=-1,facecolor=nice_col) \n",
    "ax1.add_patch(rectangle1)\n",
    "rectangle2 = plt.Rectangle( (-w_2/2 + np.pi ,L/2), w_2, -L, \n",
    "                            zorder=-1,facecolor=nice_col) \n",
    "ax2.add_patch(rectangle2)\n",
    "ax1.set_xlim( np.array([-1,1])*np.pi+np.pi )\n",
    " "
   ]
  },
  {
   "cell_type": "code",
   "execution_count": null,
   "metadata": {},
   "outputs": [],
   "source": [
    "point1 = np.array([np.pi-0.3, 1.88])\n",
    "point2 = np.array([np.pi+0.3, 0])\n",
    "\n",
    "slope = (point2[1]-point1[1])/(point2[0]-point1[0])\n",
    "new_point = np.array([np.pi, 0.1])\n",
    "\n",
    "maxy_in = point1[1]+(new_point[0]-point1[0])*slope\n",
    "new_point[1] < maxy_in "
   ]
  }
 ],
 "metadata": {
  "kernelspec": {
   "display_name": "Python 3",
   "language": "python",
   "name": "python3"
  },
  "language_info": {
   "codemirror_mode": {
    "name": "ipython",
    "version": 3
   },
   "file_extension": ".py",
   "mimetype": "text/x-python",
   "name": "python",
   "nbconvert_exporter": "python",
   "pygments_lexer": "ipython3",
   "version": "3.7.1"
  }
 },
 "nbformat": 4,
 "nbformat_minor": 2
}
